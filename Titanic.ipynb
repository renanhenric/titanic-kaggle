{
 "cells": [
  {
   "cell_type": "markdown",
   "metadata": {},
   "source": [
    "# Data Science - Previsão de sobreviventes ao naufrágio do Titanic"
   ]
  },
  {
   "cell_type": "markdown",
   "metadata": {},
   "source": [
    "10 de agosto de 2021"
   ]
  },
  {
   "cell_type": "markdown",
   "metadata": {},
   "source": [
    "![Titanic](titanic.jpg)"
   ]
  },
  {
   "cell_type": "markdown",
   "metadata": {},
   "source": [
    "## 1. Definição do problema"
   ]
  },
  {
   "cell_type": "markdown",
   "metadata": {},
   "source": [
    "A proposta do desafio é prever quais passageiros sobreviveram ao naufrágio do Titanic, a partir de um conjunto de dados dos passageiros."
   ]
  },
  {
   "cell_type": "markdown",
   "metadata": {},
   "source": [
    "### 1.1. Dataset"
   ]
  },
  {
   "cell_type": "markdown",
   "metadata": {},
   "source": [
    "https://www.kaggle.com/c/titanic/data"
   ]
  },
  {
   "cell_type": "markdown",
   "metadata": {},
   "source": [
    "### 1.2. Informações gerais"
   ]
  },
  {
   "cell_type": "markdown",
   "metadata": {},
   "source": [
    "O *dataset* possui variáveis numéricas e categóricas. A coluna ***TARGET*** é a variável preditora, que possui as seguintes classes:\n",
    "\n",
    "0. Passageiro não sobreviveu\n",
    "1. Passageiro sobreviveu\n",
    "\n",
    "Este é um *dataset* pequeno, mas interessante para a utilização de técnicas básicas de transformação dos dados."
   ]
  },
  {
   "cell_type": "markdown",
   "metadata": {},
   "source": [
    "## 2. Carregamento dos dados"
   ]
  },
  {
   "cell_type": "code",
   "execution_count": 1,
   "metadata": {},
   "outputs": [],
   "source": [
    "# importa bibliotecas gerais\n",
    "\n",
    "import warnings\n",
    "warnings.filterwarnings('ignore')\n",
    "\n",
    "# importa bibliotecas de preparação dos dados\n",
    "\n",
    "import re\n",
    "import numpy as np\n",
    "import pandas as pd\n",
    "\n",
    "# importa bibliotecas de visualização dos dados\n",
    "\n",
    "import seaborn as sns\n",
    "import matplotlib.pyplot as plt\n",
    "%matplotlib inline"
   ]
  },
  {
   "cell_type": "code",
   "execution_count": 2,
   "metadata": {},
   "outputs": [],
   "source": [
    "# carrega os dados\n",
    "\n",
    "train = pd.read_csv('train.csv')\n",
    "test = pd.read_csv('test.csv')"
   ]
  },
  {
   "cell_type": "code",
   "execution_count": 3,
   "metadata": {},
   "outputs": [],
   "source": [
    "# guarda PassengerId para usar no dataset de envio ao Kaggle\n",
    "\n",
    "PassengerId = test['PassengerId']"
   ]
  },
  {
   "cell_type": "markdown",
   "metadata": {},
   "source": [
    "## 3. Análise exploratória dos dados"
   ]
  },
  {
   "cell_type": "code",
   "execution_count": 4,
   "metadata": {},
   "outputs": [
    {
     "name": "stdout",
     "output_type": "stream",
     "text": [
      "<class 'pandas.core.frame.DataFrame'>\n",
      "RangeIndex: 891 entries, 0 to 890\n",
      "Data columns (total 12 columns):\n",
      " #   Column       Non-Null Count  Dtype  \n",
      "---  ------       --------------  -----  \n",
      " 0   PassengerId  891 non-null    int64  \n",
      " 1   Survived     891 non-null    int64  \n",
      " 2   Pclass       891 non-null    int64  \n",
      " 3   Name         891 non-null    object \n",
      " 4   Sex          891 non-null    object \n",
      " 5   Age          714 non-null    float64\n",
      " 6   SibSp        891 non-null    int64  \n",
      " 7   Parch        891 non-null    int64  \n",
      " 8   Ticket       891 non-null    object \n",
      " 9   Fare         891 non-null    float64\n",
      " 10  Cabin        204 non-null    object \n",
      " 11  Embarked     889 non-null    object \n",
      "dtypes: float64(2), int64(5), object(5)\n",
      "memory usage: 83.7+ KB\n"
     ]
    }
   ],
   "source": [
    "# informações gerais sobre o conjunto de dados de treino\n",
    "\n",
    "train.info()"
   ]
  },
  {
   "cell_type": "code",
   "execution_count": 5,
   "metadata": {},
   "outputs": [
    {
     "data": {
      "text/html": [
       "<div>\n",
       "<style scoped>\n",
       "    .dataframe tbody tr th:only-of-type {\n",
       "        vertical-align: middle;\n",
       "    }\n",
       "\n",
       "    .dataframe tbody tr th {\n",
       "        vertical-align: top;\n",
       "    }\n",
       "\n",
       "    .dataframe thead th {\n",
       "        text-align: right;\n",
       "    }\n",
       "</style>\n",
       "<table border=\"1\" class=\"dataframe\">\n",
       "  <thead>\n",
       "    <tr style=\"text-align: right;\">\n",
       "      <th></th>\n",
       "      <th>PassengerId</th>\n",
       "      <th>Survived</th>\n",
       "      <th>Pclass</th>\n",
       "      <th>Name</th>\n",
       "      <th>Sex</th>\n",
       "      <th>Age</th>\n",
       "      <th>SibSp</th>\n",
       "      <th>Parch</th>\n",
       "      <th>Ticket</th>\n",
       "      <th>Fare</th>\n",
       "      <th>Cabin</th>\n",
       "      <th>Embarked</th>\n",
       "    </tr>\n",
       "  </thead>\n",
       "  <tbody>\n",
       "    <tr>\n",
       "      <th>0</th>\n",
       "      <td>1</td>\n",
       "      <td>0</td>\n",
       "      <td>3</td>\n",
       "      <td>Braund, Mr. Owen Harris</td>\n",
       "      <td>male</td>\n",
       "      <td>22.0</td>\n",
       "      <td>1</td>\n",
       "      <td>0</td>\n",
       "      <td>A/5 21171</td>\n",
       "      <td>7.2500</td>\n",
       "      <td>NaN</td>\n",
       "      <td>S</td>\n",
       "    </tr>\n",
       "    <tr>\n",
       "      <th>1</th>\n",
       "      <td>2</td>\n",
       "      <td>1</td>\n",
       "      <td>1</td>\n",
       "      <td>Cumings, Mrs. John Bradley (Florence Briggs Th...</td>\n",
       "      <td>female</td>\n",
       "      <td>38.0</td>\n",
       "      <td>1</td>\n",
       "      <td>0</td>\n",
       "      <td>PC 17599</td>\n",
       "      <td>71.2833</td>\n",
       "      <td>C85</td>\n",
       "      <td>C</td>\n",
       "    </tr>\n",
       "    <tr>\n",
       "      <th>2</th>\n",
       "      <td>3</td>\n",
       "      <td>1</td>\n",
       "      <td>3</td>\n",
       "      <td>Heikkinen, Miss. Laina</td>\n",
       "      <td>female</td>\n",
       "      <td>26.0</td>\n",
       "      <td>0</td>\n",
       "      <td>0</td>\n",
       "      <td>STON/O2. 3101282</td>\n",
       "      <td>7.9250</td>\n",
       "      <td>NaN</td>\n",
       "      <td>S</td>\n",
       "    </tr>\n",
       "    <tr>\n",
       "      <th>3</th>\n",
       "      <td>4</td>\n",
       "      <td>1</td>\n",
       "      <td>1</td>\n",
       "      <td>Futrelle, Mrs. Jacques Heath (Lily May Peel)</td>\n",
       "      <td>female</td>\n",
       "      <td>35.0</td>\n",
       "      <td>1</td>\n",
       "      <td>0</td>\n",
       "      <td>113803</td>\n",
       "      <td>53.1000</td>\n",
       "      <td>C123</td>\n",
       "      <td>S</td>\n",
       "    </tr>\n",
       "    <tr>\n",
       "      <th>4</th>\n",
       "      <td>5</td>\n",
       "      <td>0</td>\n",
       "      <td>3</td>\n",
       "      <td>Allen, Mr. William Henry</td>\n",
       "      <td>male</td>\n",
       "      <td>35.0</td>\n",
       "      <td>0</td>\n",
       "      <td>0</td>\n",
       "      <td>373450</td>\n",
       "      <td>8.0500</td>\n",
       "      <td>NaN</td>\n",
       "      <td>S</td>\n",
       "    </tr>\n",
       "  </tbody>\n",
       "</table>\n",
       "</div>"
      ],
      "text/plain": [
       "   PassengerId  Survived  Pclass  \\\n",
       "0            1         0       3   \n",
       "1            2         1       1   \n",
       "2            3         1       3   \n",
       "3            4         1       1   \n",
       "4            5         0       3   \n",
       "\n",
       "                                                Name     Sex   Age  SibSp  \\\n",
       "0                            Braund, Mr. Owen Harris    male  22.0      1   \n",
       "1  Cumings, Mrs. John Bradley (Florence Briggs Th...  female  38.0      1   \n",
       "2                             Heikkinen, Miss. Laina  female  26.0      0   \n",
       "3       Futrelle, Mrs. Jacques Heath (Lily May Peel)  female  35.0      1   \n",
       "4                           Allen, Mr. William Henry    male  35.0      0   \n",
       "\n",
       "   Parch            Ticket     Fare Cabin Embarked  \n",
       "0      0         A/5 21171   7.2500   NaN        S  \n",
       "1      0          PC 17599  71.2833   C85        C  \n",
       "2      0  STON/O2. 3101282   7.9250   NaN        S  \n",
       "3      0            113803  53.1000  C123        S  \n",
       "4      0            373450   8.0500   NaN        S  "
      ]
     },
     "execution_count": 5,
     "metadata": {},
     "output_type": "execute_result"
    }
   ],
   "source": [
    "# mostra as cinco primeiras linhas do conjunto de dados de treino\n",
    "\n",
    "train.head()"
   ]
  },
  {
   "cell_type": "code",
   "execution_count": 6,
   "metadata": {},
   "outputs": [
    {
     "data": {
      "text/html": [
       "<div>\n",
       "<style scoped>\n",
       "    .dataframe tbody tr th:only-of-type {\n",
       "        vertical-align: middle;\n",
       "    }\n",
       "\n",
       "    .dataframe tbody tr th {\n",
       "        vertical-align: top;\n",
       "    }\n",
       "\n",
       "    .dataframe thead th {\n",
       "        text-align: right;\n",
       "    }\n",
       "</style>\n",
       "<table border=\"1\" class=\"dataframe\">\n",
       "  <thead>\n",
       "    <tr style=\"text-align: right;\">\n",
       "      <th></th>\n",
       "      <th>PassengerId</th>\n",
       "      <th>Survived</th>\n",
       "      <th>Pclass</th>\n",
       "      <th>Name</th>\n",
       "      <th>Sex</th>\n",
       "      <th>Age</th>\n",
       "      <th>SibSp</th>\n",
       "      <th>Parch</th>\n",
       "      <th>Ticket</th>\n",
       "      <th>Fare</th>\n",
       "      <th>Cabin</th>\n",
       "      <th>Embarked</th>\n",
       "    </tr>\n",
       "  </thead>\n",
       "  <tbody>\n",
       "    <tr>\n",
       "      <th>886</th>\n",
       "      <td>887</td>\n",
       "      <td>0</td>\n",
       "      <td>2</td>\n",
       "      <td>Montvila, Rev. Juozas</td>\n",
       "      <td>male</td>\n",
       "      <td>27.0</td>\n",
       "      <td>0</td>\n",
       "      <td>0</td>\n",
       "      <td>211536</td>\n",
       "      <td>13.00</td>\n",
       "      <td>NaN</td>\n",
       "      <td>S</td>\n",
       "    </tr>\n",
       "    <tr>\n",
       "      <th>887</th>\n",
       "      <td>888</td>\n",
       "      <td>1</td>\n",
       "      <td>1</td>\n",
       "      <td>Graham, Miss. Margaret Edith</td>\n",
       "      <td>female</td>\n",
       "      <td>19.0</td>\n",
       "      <td>0</td>\n",
       "      <td>0</td>\n",
       "      <td>112053</td>\n",
       "      <td>30.00</td>\n",
       "      <td>B42</td>\n",
       "      <td>S</td>\n",
       "    </tr>\n",
       "    <tr>\n",
       "      <th>888</th>\n",
       "      <td>889</td>\n",
       "      <td>0</td>\n",
       "      <td>3</td>\n",
       "      <td>Johnston, Miss. Catherine Helen \"Carrie\"</td>\n",
       "      <td>female</td>\n",
       "      <td>NaN</td>\n",
       "      <td>1</td>\n",
       "      <td>2</td>\n",
       "      <td>W./C. 6607</td>\n",
       "      <td>23.45</td>\n",
       "      <td>NaN</td>\n",
       "      <td>S</td>\n",
       "    </tr>\n",
       "    <tr>\n",
       "      <th>889</th>\n",
       "      <td>890</td>\n",
       "      <td>1</td>\n",
       "      <td>1</td>\n",
       "      <td>Behr, Mr. Karl Howell</td>\n",
       "      <td>male</td>\n",
       "      <td>26.0</td>\n",
       "      <td>0</td>\n",
       "      <td>0</td>\n",
       "      <td>111369</td>\n",
       "      <td>30.00</td>\n",
       "      <td>C148</td>\n",
       "      <td>C</td>\n",
       "    </tr>\n",
       "    <tr>\n",
       "      <th>890</th>\n",
       "      <td>891</td>\n",
       "      <td>0</td>\n",
       "      <td>3</td>\n",
       "      <td>Dooley, Mr. Patrick</td>\n",
       "      <td>male</td>\n",
       "      <td>32.0</td>\n",
       "      <td>0</td>\n",
       "      <td>0</td>\n",
       "      <td>370376</td>\n",
       "      <td>7.75</td>\n",
       "      <td>NaN</td>\n",
       "      <td>Q</td>\n",
       "    </tr>\n",
       "  </tbody>\n",
       "</table>\n",
       "</div>"
      ],
      "text/plain": [
       "     PassengerId  Survived  Pclass                                      Name  \\\n",
       "886          887         0       2                     Montvila, Rev. Juozas   \n",
       "887          888         1       1              Graham, Miss. Margaret Edith   \n",
       "888          889         0       3  Johnston, Miss. Catherine Helen \"Carrie\"   \n",
       "889          890         1       1                     Behr, Mr. Karl Howell   \n",
       "890          891         0       3                       Dooley, Mr. Patrick   \n",
       "\n",
       "        Sex   Age  SibSp  Parch      Ticket   Fare Cabin Embarked  \n",
       "886    male  27.0      0      0      211536  13.00   NaN        S  \n",
       "887  female  19.0      0      0      112053  30.00   B42        S  \n",
       "888  female   NaN      1      2  W./C. 6607  23.45   NaN        S  \n",
       "889    male  26.0      0      0      111369  30.00  C148        C  \n",
       "890    male  32.0      0      0      370376   7.75   NaN        Q  "
      ]
     },
     "execution_count": 6,
     "metadata": {},
     "output_type": "execute_result"
    }
   ],
   "source": [
    "# mostra as cinco últimas linhas do conjunto de dados\n",
    "\n",
    "train.tail()"
   ]
  },
  {
   "cell_type": "code",
   "execution_count": 7,
   "metadata": {},
   "outputs": [
    {
     "data": {
      "text/html": [
       "<div>\n",
       "<style scoped>\n",
       "    .dataframe tbody tr th:only-of-type {\n",
       "        vertical-align: middle;\n",
       "    }\n",
       "\n",
       "    .dataframe tbody tr th {\n",
       "        vertical-align: top;\n",
       "    }\n",
       "\n",
       "    .dataframe thead th {\n",
       "        text-align: right;\n",
       "    }\n",
       "</style>\n",
       "<table border=\"1\" class=\"dataframe\">\n",
       "  <thead>\n",
       "    <tr style=\"text-align: right;\">\n",
       "      <th></th>\n",
       "      <th>PassengerId</th>\n",
       "      <th>Survived</th>\n",
       "      <th>Pclass</th>\n",
       "      <th>Age</th>\n",
       "      <th>SibSp</th>\n",
       "      <th>Parch</th>\n",
       "      <th>Fare</th>\n",
       "    </tr>\n",
       "  </thead>\n",
       "  <tbody>\n",
       "    <tr>\n",
       "      <th>count</th>\n",
       "      <td>891.000000</td>\n",
       "      <td>891.000000</td>\n",
       "      <td>891.000000</td>\n",
       "      <td>714.000000</td>\n",
       "      <td>891.000000</td>\n",
       "      <td>891.000000</td>\n",
       "      <td>891.000000</td>\n",
       "    </tr>\n",
       "    <tr>\n",
       "      <th>mean</th>\n",
       "      <td>446.000000</td>\n",
       "      <td>0.383838</td>\n",
       "      <td>2.308642</td>\n",
       "      <td>29.699118</td>\n",
       "      <td>0.523008</td>\n",
       "      <td>0.381594</td>\n",
       "      <td>32.204208</td>\n",
       "    </tr>\n",
       "    <tr>\n",
       "      <th>std</th>\n",
       "      <td>257.353842</td>\n",
       "      <td>0.486592</td>\n",
       "      <td>0.836071</td>\n",
       "      <td>14.526497</td>\n",
       "      <td>1.102743</td>\n",
       "      <td>0.806057</td>\n",
       "      <td>49.693429</td>\n",
       "    </tr>\n",
       "    <tr>\n",
       "      <th>min</th>\n",
       "      <td>1.000000</td>\n",
       "      <td>0.000000</td>\n",
       "      <td>1.000000</td>\n",
       "      <td>0.420000</td>\n",
       "      <td>0.000000</td>\n",
       "      <td>0.000000</td>\n",
       "      <td>0.000000</td>\n",
       "    </tr>\n",
       "    <tr>\n",
       "      <th>25%</th>\n",
       "      <td>223.500000</td>\n",
       "      <td>0.000000</td>\n",
       "      <td>2.000000</td>\n",
       "      <td>20.125000</td>\n",
       "      <td>0.000000</td>\n",
       "      <td>0.000000</td>\n",
       "      <td>7.910400</td>\n",
       "    </tr>\n",
       "    <tr>\n",
       "      <th>50%</th>\n",
       "      <td>446.000000</td>\n",
       "      <td>0.000000</td>\n",
       "      <td>3.000000</td>\n",
       "      <td>28.000000</td>\n",
       "      <td>0.000000</td>\n",
       "      <td>0.000000</td>\n",
       "      <td>14.454200</td>\n",
       "    </tr>\n",
       "    <tr>\n",
       "      <th>75%</th>\n",
       "      <td>668.500000</td>\n",
       "      <td>1.000000</td>\n",
       "      <td>3.000000</td>\n",
       "      <td>38.000000</td>\n",
       "      <td>1.000000</td>\n",
       "      <td>0.000000</td>\n",
       "      <td>31.000000</td>\n",
       "    </tr>\n",
       "    <tr>\n",
       "      <th>max</th>\n",
       "      <td>891.000000</td>\n",
       "      <td>1.000000</td>\n",
       "      <td>3.000000</td>\n",
       "      <td>80.000000</td>\n",
       "      <td>8.000000</td>\n",
       "      <td>6.000000</td>\n",
       "      <td>512.329200</td>\n",
       "    </tr>\n",
       "  </tbody>\n",
       "</table>\n",
       "</div>"
      ],
      "text/plain": [
       "       PassengerId    Survived      Pclass         Age       SibSp  \\\n",
       "count   891.000000  891.000000  891.000000  714.000000  891.000000   \n",
       "mean    446.000000    0.383838    2.308642   29.699118    0.523008   \n",
       "std     257.353842    0.486592    0.836071   14.526497    1.102743   \n",
       "min       1.000000    0.000000    1.000000    0.420000    0.000000   \n",
       "25%     223.500000    0.000000    2.000000   20.125000    0.000000   \n",
       "50%     446.000000    0.000000    3.000000   28.000000    0.000000   \n",
       "75%     668.500000    1.000000    3.000000   38.000000    1.000000   \n",
       "max     891.000000    1.000000    3.000000   80.000000    8.000000   \n",
       "\n",
       "            Parch        Fare  \n",
       "count  891.000000  891.000000  \n",
       "mean     0.381594   32.204208  \n",
       "std      0.806057   49.693429  \n",
       "min      0.000000    0.000000  \n",
       "25%      0.000000    7.910400  \n",
       "50%      0.000000   14.454200  \n",
       "75%      0.000000   31.000000  \n",
       "max      6.000000  512.329200  "
      ]
     },
     "execution_count": 7,
     "metadata": {},
     "output_type": "execute_result"
    }
   ],
   "source": [
    "# visão geral da distribuição estatística dos dados de treino\n",
    "\n",
    "train.describe()"
   ]
  },
  {
   "cell_type": "code",
   "execution_count": 8,
   "metadata": {},
   "outputs": [
    {
     "data": {
      "text/plain": [
       "0"
      ]
     },
     "execution_count": 8,
     "metadata": {},
     "output_type": "execute_result"
    }
   ],
   "source": [
    "# verifica o número de registros duplicados na coluna ID dos dados de treino\n",
    "train['PassengerId'].duplicated().sum()"
   ]
  },
  {
   "cell_type": "code",
   "execution_count": 9,
   "metadata": {},
   "outputs": [
    {
     "data": {
      "text/plain": [
       "0"
      ]
     },
     "execution_count": 9,
     "metadata": {},
     "output_type": "execute_result"
    }
   ],
   "source": [
    "# verifica o número de registros duplicados em todas as colunas dos dados de treino, excluindo a coluna ID\n",
    "train.drop(columns='PassengerId').duplicated().sum()"
   ]
  },
  {
   "cell_type": "markdown",
   "metadata": {},
   "source": [
    "Observando as informações acima, podemos dizer que:\n",
    "\n",
    "- O *dataset* de treino conta com **891** registros e **12** variáveis, sendo **2** do tipo *float*, **5** do tipo *int* e **5** do tipo *object*.\n",
    "\n",
    "- Não existem registros duplicados.\n",
    "\n",
    "- Existem registros faltantes (*missing values*) na variável *Age*.\n",
    "\n",
    "- A média de passageiros sobreviventes é de aproximadamente 38%.\n",
    "\n",
    "- A média de idade dos passageiros é de aproximadamente 29 anos.\n",
    "\n",
    "- A média da tarifa paga é de 32 libras.\n",
    "\n",
    "Vamos dar uma olhada melhor em cada uma das variáveis.\n",
    "\n",
    "Nosso primeiro gráfico nos informa que a maioria dos passageiros estava na 3ª classe, o que nos leva a crer que pagaram as menores tarifas."
   ]
  },
  {
   "cell_type": "code",
   "execution_count": 10,
   "metadata": {},
   "outputs": [
    {
     "data": {
      "image/png": "[encoded data removed]",
      "text/plain": [
       "<Figure size 432x288 with 1 Axes>"
      ]
     },
     "metadata": {},
     "output_type": "display_data"
    }
   ],
   "source": [
    "# histograma da classe dos passageiros do conjunto de dados de treino\n",
    "class_values = train['Pclass'].value_counts()\n",
    "labels = class_values.index\n",
    "fig = plt.pie(class_values, autopct='%1.1f%%\\n')\n",
    "plt.legend(labels)\n",
    "plt.title('Distribuição dos Passageiros por Classe',size = 20)\n",
    "plt.show()"
   ]
  },
  {
   "cell_type": "markdown",
   "metadata": {},
   "source": [
    "Vamos, então, confirmar se a maioria dos passageiros pagou tarifas mais baratas."
   ]
  },
  {
   "cell_type": "code",
   "execution_count": 11,
   "metadata": {},
   "outputs": [
    {
     "data": {
      "image/png": "[encoded data removed]",
      "text/plain": [
       "<Figure size 576x288 with 1 Axes>"
      ]
     },
     "metadata": {
      "needs_background": "light"
     },
     "output_type": "display_data"
    }
   ],
   "source": [
    "# histograma de tarifas dos passageiros do conjunto de dados de treino\n",
    "\n",
    "plt.figure(figsize=(8,4))\n",
    "fig = sns.histplot(train['Fare'], color=\"darkred\", kde=True)\n",
    "fig.set_xlabel(\"Valor da Tarifa\",size=15)\n",
    "fig.set_ylabel(\"Passageiros\",size=15)\n",
    "plt.title('Distribuição de Tarifas dos Passageiros',size = 20)\n",
    "plt.show()"
   ]
  },
  {
   "cell_type": "markdown",
   "metadata": {},
   "source": [
    "Como esperado, podemos ver pelo gráfico de distribuição de tarifas que a maior parte dos passageiros pagou tarifas mais baixas, corroborando o gráfico das classes.\n",
    "\n",
    "Agora, vejamos a distribuição das idades."
   ]
  },
  {
   "cell_type": "code",
   "execution_count": 12,
   "metadata": {},
   "outputs": [
    {
     "data": {
      "image/png": "[encoded data removed]",
      "text/plain": [
       "<Figure size 576x288 with 1 Axes>"
      ]
     },
     "metadata": {
      "needs_background": "light"
     },
     "output_type": "display_data"
    },
    {
     "data": {
      "text/plain": [
       "0.1    14.0\n",
       "0.2    19.0\n",
       "0.3    22.0\n",
       "0.4    25.0\n",
       "0.5    28.0\n",
       "0.6    31.8\n",
       "0.7    36.0\n",
       "0.8    41.0\n",
       "0.9    50.0\n",
       "Name: Age, dtype: float64"
      ]
     },
     "execution_count": 12,
     "metadata": {},
     "output_type": "execute_result"
    }
   ],
   "source": [
    "# histograma de idade dos passageiros do conjunto de dados de treino e idades nos decis\n",
    "\n",
    "plt.figure(figsize=(8,4))\n",
    "fig = sns.histplot(train['Age'], color=\"darkgreen\", kde=True)\n",
    "fig.set_xlabel(\"Idade\",size=15)\n",
    "fig.set_ylabel(\"Passageiros\",size=15)\n",
    "plt.title('Distribuição de Idade dos Passageiros',size = 20)\n",
    "plt.show()\n",
    "\n",
    "train['Age'].quantile([.1,.2,.3,.4,.5,.6,.7,.8,.9])"
   ]
  },
  {
   "cell_type": "markdown",
   "metadata": {},
   "source": [
    "Percebe-se, ainda, que a maior parte dos passageiros se encontra na faixa etária entre 20 e 30 anos de idade.\n",
    "\n",
    "Vamos dar uma olhada também na distribuição da família dos passageiros."
   ]
  },
  {
   "cell_type": "code",
   "execution_count": 13,
   "metadata": {},
   "outputs": [
    {
     "data": {
      "image/png": "[encoded data removed]",
      "text/plain": [
       "<Figure size 576x288 with 1 Axes>"
      ]
     },
     "metadata": {
      "needs_background": "light"
     },
     "output_type": "display_data"
    }
   ],
   "source": [
    "# histograma de esposas e irmãos dos passageiros do conjunto de dados de treino\n",
    "\n",
    "plt.figure(figsize=(8,4))\n",
    "fig = sns.histplot(train['SibSp'], color=\"grey\")\n",
    "fig.set_xlabel(\"Esposas ou Irmãos\",size=15)\n",
    "fig.set_ylabel(\"Passageiros\",size=15)\n",
    "plt.title('Distribuição de Esposas ou Irmãos dos Passageiros',size = 20)\n",
    "plt.show()"
   ]
  },
  {
   "cell_type": "markdown",
   "metadata": {},
   "source": [
    "Neste gráfico, vemos que a maioria dos passageiros estava desacompanhado de esposas ou irmãos."
   ]
  },
  {
   "cell_type": "code",
   "execution_count": 14,
   "metadata": {},
   "outputs": [
    {
     "data": {
      "image/png": "[encoded data removed]",
      "text/plain": [
       "<Figure size 576x288 with 1 Axes>"
      ]
     },
     "metadata": {
      "needs_background": "light"
     },
     "output_type": "display_data"
    }
   ],
   "source": [
    "# histograma de filhos e outros parentes dos passageiros do conjunto de dados de treino\n",
    "\n",
    "plt.figure(figsize=(8,4))\n",
    "fig = sns.histplot(train['Parch'], color=\"purple\")\n",
    "fig.set_xlabel(\"Filhos ou outros Parentes\",size=15)\n",
    "fig.set_ylabel(\"Passageiros\",size=15)\n",
    "plt.title('Distribuição de Filhos ou outros Parentes dos Passageiros',size = 20)\n",
    "plt.show()"
   ]
  },
  {
   "cell_type": "markdown",
   "metadata": {},
   "source": [
    "Igualmente, neste gráfico vemos que a maioria dos passageiros também não estava acompanhado de filhos e outros parentes.\n",
    "\n",
    "Agora vamos ver a distribuição do sexo dos passageiros."
   ]
  },
  {
   "cell_type": "code",
   "execution_count": 15,
   "metadata": {},
   "outputs": [
    {
     "data": {
      "image/png": "[encoded data removed]",
      "text/plain": [
       "<Figure size 576x288 with 1 Axes>"
      ]
     },
     "metadata": {
      "needs_background": "light"
     },
     "output_type": "display_data"
    }
   ],
   "source": [
    "# histograma de sexo dos passageiros do conjunto de dados de treino\n",
    "\n",
    "plt.figure(figsize=(8,4))\n",
    "fig = sns.histplot(train['Sex'], color=\"darkblue\")\n",
    "fig.set_xlabel(\"Sexo\",size=15)\n",
    "fig.set_ylabel(\"Passageiros\",size=15)\n",
    "plt.title('Distribuição de Sexo dos Passageiros',size = 20)\n",
    "plt.show()"
   ]
  },
  {
   "cell_type": "markdown",
   "metadata": {},
   "source": [
    "Podemos ver neste gráfico que a maior parte dos passageiros era do sexo masculino.\n",
    "\n",
    "Agora vamos ver as relações entre algumas variáveis e a chance de sobrevivência."
   ]
  },
  {
   "cell_type": "code",
   "execution_count": 16,
   "metadata": {},
   "outputs": [
    {
     "data": {
      "image/png": "[encoded data removed]",
      "text/plain": [
       "<Figure size 1296x288 with 3 Axes>"
      ]
     },
     "metadata": {
      "needs_background": "light"
     },
     "output_type": "display_data"
    }
   ],
   "source": [
    "# plota gráficos para Survived x Sex, Pclass e Embarked\n",
    "\n",
    "fig, (axis1, axis2, axis3) = plt.subplots(1,3, figsize=(18,4))\n",
    "\n",
    "sns.barplot(x='Sex', y='Survived', data=train, ax=axis1)\n",
    "sns.barplot(x='Pclass', y='Survived', data=train, ax=axis2)\n",
    "sns.barplot(x='Embarked', y='Survived', data=train, ax=axis3);"
   ]
  },
  {
   "cell_type": "markdown",
   "metadata": {},
   "source": [
    "O primeiro gráfico nos mostra que mais mulheres sobreviveram ao naufrágio, em que pese termos observado a maior presença de homens no navio.\n",
    "\n",
    "Algumas hipóteses poderiam ser levantadas a partir desse dado, como, por exemplo, que o desembarque para os botes salva-vidas, no momento do naufrágio, foi realizado primeiro pelas mulheres, seguindo código de conduta da época.\n",
    "\n",
    "No segundo gráfico, podemos ver que os passageiros da primeira classe foram os que mais sobreviveram, seguido da segunda classe e, por fim, da terceira classe.\n",
    "\n",
    "Veja que, apesar de a terceira classe possuir a maior quantidade de passageiros, essa proporção não se refletiu nas chances de sobrevivência. Uma hipótese para isso é a de que o salvamento também ocorreu seletivamente, considerando a condição financeira e a classe das pessoas no navio.\n",
    "\n",
    "O terceiro gráfico informa que os passageiros que embarcaram em Cherbourg foram os que mais se salvaram. Sobre esse dado, não há qualquer inferência a ser feita, já que não parece haver qualquer causalidade aparente nesse caso.\n",
    "\n",
    "Agora veremos a influência da idade na probabilidade de sobrevivência."
   ]
  },
  {
   "cell_type": "code",
   "execution_count": 17,
   "metadata": {},
   "outputs": [
    {
     "data": {
      "image/png": "[encoded data removed]",
      "text/plain": [
       "<Figure size 720x360 with 2 Axes>"
      ]
     },
     "metadata": {
      "needs_background": "light"
     },
     "output_type": "display_data"
    }
   ],
   "source": [
    "# histograma para ver influência da idade na probabilidade de sobrevivência\n",
    "\n",
    "age_survived = sns.FacetGrid(train, height=5, col='Survived')\n",
    "age_survived.map(sns.histplot, 'Age', kde=True);"
   ]
  },
  {
   "cell_type": "markdown",
   "metadata": {},
   "source": [
    "Por este gráfico, podemos ver que a maior parte dos sobreviventes tinham de 15 a 40 anos. Contudo, essa faixa etária também foi a que mais faleceu, seguindo  e um número muito grande de crianças também sobreviveu. Esta última observação também faz sentido devido ao contexto da época, haja vista o código de conduta que era seguido no desembarque em casos de tragédias (\"mulheres e crianças primeiro\").\n",
    "\n",
    "Agora que tivemos uma visão mais específica das variáveis do conjunto de dados, verificaremos quais registros do conjunto de dados possui mais de um valor *outlier*."
   ]
  },
  {
   "cell_type": "code",
   "execution_count": 18,
   "metadata": {},
   "outputs": [
    {
     "data": {
      "text/html": [
       "<div>\n",
       "<style scoped>\n",
       "    .dataframe tbody tr th:only-of-type {\n",
       "        vertical-align: middle;\n",
       "    }\n",
       "\n",
       "    .dataframe tbody tr th {\n",
       "        vertical-align: top;\n",
       "    }\n",
       "\n",
       "    .dataframe thead th {\n",
       "        text-align: right;\n",
       "    }\n",
       "</style>\n",
       "<table border=\"1\" class=\"dataframe\">\n",
       "  <thead>\n",
       "    <tr style=\"text-align: right;\">\n",
       "      <th></th>\n",
       "      <th>PassengerId</th>\n",
       "      <th>Survived</th>\n",
       "      <th>Pclass</th>\n",
       "      <th>Name</th>\n",
       "      <th>Sex</th>\n",
       "      <th>Age</th>\n",
       "      <th>SibSp</th>\n",
       "      <th>Parch</th>\n",
       "      <th>Ticket</th>\n",
       "      <th>Fare</th>\n",
       "      <th>Cabin</th>\n",
       "      <th>Embarked</th>\n",
       "    </tr>\n",
       "  </thead>\n",
       "  <tbody>\n",
       "    <tr>\n",
       "      <th>7</th>\n",
       "      <td>8</td>\n",
       "      <td>0</td>\n",
       "      <td>3</td>\n",
       "      <td>Palsson, Master. Gosta Leonard</td>\n",
       "      <td>male</td>\n",
       "      <td>2.0</td>\n",
       "      <td>3</td>\n",
       "      <td>1</td>\n",
       "      <td>349909</td>\n",
       "      <td>21.0750</td>\n",
       "      <td>NaN</td>\n",
       "      <td>S</td>\n",
       "    </tr>\n",
       "    <tr>\n",
       "      <th>16</th>\n",
       "      <td>17</td>\n",
       "      <td>0</td>\n",
       "      <td>3</td>\n",
       "      <td>Rice, Master. Eugene</td>\n",
       "      <td>male</td>\n",
       "      <td>2.0</td>\n",
       "      <td>4</td>\n",
       "      <td>1</td>\n",
       "      <td>382652</td>\n",
       "      <td>29.1250</td>\n",
       "      <td>NaN</td>\n",
       "      <td>Q</td>\n",
       "    </tr>\n",
       "    <tr>\n",
       "      <th>24</th>\n",
       "      <td>25</td>\n",
       "      <td>0</td>\n",
       "      <td>3</td>\n",
       "      <td>Palsson, Miss. Torborg Danira</td>\n",
       "      <td>female</td>\n",
       "      <td>8.0</td>\n",
       "      <td>3</td>\n",
       "      <td>1</td>\n",
       "      <td>349909</td>\n",
       "      <td>21.0750</td>\n",
       "      <td>NaN</td>\n",
       "      <td>S</td>\n",
       "    </tr>\n",
       "    <tr>\n",
       "      <th>27</th>\n",
       "      <td>28</td>\n",
       "      <td>0</td>\n",
       "      <td>1</td>\n",
       "      <td>Fortune, Mr. Charles Alexander</td>\n",
       "      <td>male</td>\n",
       "      <td>19.0</td>\n",
       "      <td>3</td>\n",
       "      <td>2</td>\n",
       "      <td>19950</td>\n",
       "      <td>263.0000</td>\n",
       "      <td>C23 C25 C27</td>\n",
       "      <td>S</td>\n",
       "    </tr>\n",
       "    <tr>\n",
       "      <th>50</th>\n",
       "      <td>51</td>\n",
       "      <td>0</td>\n",
       "      <td>3</td>\n",
       "      <td>Panula, Master. Juha Niilo</td>\n",
       "      <td>male</td>\n",
       "      <td>7.0</td>\n",
       "      <td>4</td>\n",
       "      <td>1</td>\n",
       "      <td>3101295</td>\n",
       "      <td>39.6875</td>\n",
       "      <td>NaN</td>\n",
       "      <td>S</td>\n",
       "    </tr>\n",
       "    <tr>\n",
       "      <th>...</th>\n",
       "      <td>...</td>\n",
       "      <td>...</td>\n",
       "      <td>...</td>\n",
       "      <td>...</td>\n",
       "      <td>...</td>\n",
       "      <td>...</td>\n",
       "      <td>...</td>\n",
       "      <td>...</td>\n",
       "      <td>...</td>\n",
       "      <td>...</td>\n",
       "      <td>...</td>\n",
       "      <td>...</td>\n",
       "    </tr>\n",
       "    <tr>\n",
       "      <th>802</th>\n",
       "      <td>803</td>\n",
       "      <td>1</td>\n",
       "      <td>1</td>\n",
       "      <td>Carter, Master. William Thornton II</td>\n",
       "      <td>male</td>\n",
       "      <td>11.0</td>\n",
       "      <td>1</td>\n",
       "      <td>2</td>\n",
       "      <td>113760</td>\n",
       "      <td>120.0000</td>\n",
       "      <td>B96 B98</td>\n",
       "      <td>S</td>\n",
       "    </tr>\n",
       "    <tr>\n",
       "      <th>820</th>\n",
       "      <td>821</td>\n",
       "      <td>1</td>\n",
       "      <td>1</td>\n",
       "      <td>Hays, Mrs. Charles Melville (Clara Jennings Gr...</td>\n",
       "      <td>female</td>\n",
       "      <td>52.0</td>\n",
       "      <td>1</td>\n",
       "      <td>1</td>\n",
       "      <td>12749</td>\n",
       "      <td>93.5000</td>\n",
       "      <td>B69</td>\n",
       "      <td>S</td>\n",
       "    </tr>\n",
       "    <tr>\n",
       "      <th>835</th>\n",
       "      <td>836</td>\n",
       "      <td>1</td>\n",
       "      <td>1</td>\n",
       "      <td>Compton, Miss. Sara Rebecca</td>\n",
       "      <td>female</td>\n",
       "      <td>39.0</td>\n",
       "      <td>1</td>\n",
       "      <td>1</td>\n",
       "      <td>PC 17756</td>\n",
       "      <td>83.1583</td>\n",
       "      <td>E49</td>\n",
       "      <td>C</td>\n",
       "    </tr>\n",
       "    <tr>\n",
       "      <th>856</th>\n",
       "      <td>857</td>\n",
       "      <td>1</td>\n",
       "      <td>1</td>\n",
       "      <td>Wick, Mrs. George Dennick (Mary Hitchcock)</td>\n",
       "      <td>female</td>\n",
       "      <td>45.0</td>\n",
       "      <td>1</td>\n",
       "      <td>1</td>\n",
       "      <td>36928</td>\n",
       "      <td>164.8667</td>\n",
       "      <td>NaN</td>\n",
       "      <td>S</td>\n",
       "    </tr>\n",
       "    <tr>\n",
       "      <th>879</th>\n",
       "      <td>880</td>\n",
       "      <td>1</td>\n",
       "      <td>1</td>\n",
       "      <td>Potter, Mrs. Thomas Jr (Lily Alexenia Wilson)</td>\n",
       "      <td>female</td>\n",
       "      <td>56.0</td>\n",
       "      <td>0</td>\n",
       "      <td>1</td>\n",
       "      <td>11767</td>\n",
       "      <td>83.1583</td>\n",
       "      <td>C50</td>\n",
       "      <td>C</td>\n",
       "    </tr>\n",
       "  </tbody>\n",
       "</table>\n",
       "<p>81 rows × 12 columns</p>\n",
       "</div>"
      ],
      "text/plain": [
       "     PassengerId  Survived  Pclass  \\\n",
       "7              8         0       3   \n",
       "16            17         0       3   \n",
       "24            25         0       3   \n",
       "27            28         0       1   \n",
       "50            51         0       3   \n",
       "..           ...       ...     ...   \n",
       "802          803         1       1   \n",
       "820          821         1       1   \n",
       "835          836         1       1   \n",
       "856          857         1       1   \n",
       "879          880         1       1   \n",
       "\n",
       "                                                  Name     Sex   Age  SibSp  \\\n",
       "7                       Palsson, Master. Gosta Leonard    male   2.0      3   \n",
       "16                                Rice, Master. Eugene    male   2.0      4   \n",
       "24                       Palsson, Miss. Torborg Danira  female   8.0      3   \n",
       "27                      Fortune, Mr. Charles Alexander    male  19.0      3   \n",
       "50                          Panula, Master. Juha Niilo    male   7.0      4   \n",
       "..                                                 ...     ...   ...    ...   \n",
       "802                Carter, Master. William Thornton II    male  11.0      1   \n",
       "820  Hays, Mrs. Charles Melville (Clara Jennings Gr...  female  52.0      1   \n",
       "835                        Compton, Miss. Sara Rebecca  female  39.0      1   \n",
       "856         Wick, Mrs. George Dennick (Mary Hitchcock)  female  45.0      1   \n",
       "879      Potter, Mrs. Thomas Jr (Lily Alexenia Wilson)  female  56.0      0   \n",
       "\n",
       "     Parch    Ticket      Fare        Cabin Embarked  \n",
       "7        1    349909   21.0750          NaN        S  \n",
       "16       1    382652   29.1250          NaN        Q  \n",
       "24       1    349909   21.0750          NaN        S  \n",
       "27       2     19950  263.0000  C23 C25 C27        S  \n",
       "50       1   3101295   39.6875          NaN        S  \n",
       "..     ...       ...       ...          ...      ...  \n",
       "802      2    113760  120.0000      B96 B98        S  \n",
       "820      1     12749   93.5000          B69        S  \n",
       "835      1  PC 17756   83.1583          E49        C  \n",
       "856      1     36928  164.8667          NaN        S  \n",
       "879      1     11767   83.1583          C50        C  \n",
       "\n",
       "[81 rows x 12 columns]"
      ]
     },
     "execution_count": 18,
     "metadata": {},
     "output_type": "execute_result"
    }
   ],
   "source": [
    "# define função para detectar dados outliers\n",
    "# retorna lista com os registros outliers\n",
    "\n",
    "from collections import Counter\n",
    "\n",
    "def detect_outliers(df,n,features):\n",
    "\n",
    "    outlier_indices = []\n",
    "    \n",
    "    # itera sobre as colunas\n",
    "    for col in features:\n",
    "        # 1o quartil (25%)\n",
    "        Q1 = np.percentile(df[col], 25)\n",
    "        # 3o quartil (75%)\n",
    "        Q3 = np.percentile(df[col],75)\n",
    "        # intervalo interquartil (IQR)\n",
    "        IQR = Q3 - Q1\n",
    "        \n",
    "        # outlier step\n",
    "        outlier_step = 1.5 * IQR\n",
    "        \n",
    "        # cria lista de índices de outliers por coluna\n",
    "        outlier_list_col = df[(df[col] < Q1 - outlier_step) | (df[col] > Q3 + outlier_step )].index\n",
    "        \n",
    "        # insere o outlier da coluna a uma lista de outliers\n",
    "        outlier_indices.extend(outlier_list_col)\n",
    "        \n",
    "    # seleciona linhas contendo mais de n outliers\n",
    "    outlier_indices = Counter(outlier_indices)        \n",
    "    multiple_outliers = list( k for k, v in outlier_indices.items() if v > n )\n",
    "    \n",
    "    return multiple_outliers   \n",
    "\n",
    "# detecta outliers de Age, SibSp, Parch e Fare\n",
    "outliers_to_drop = detect_outliers(train,1,[\"Age\",\"SibSp\",\"Parch\",\"Fare\"])\n",
    "\n",
    "# mostra as linhas com valores outliers\n",
    "train.loc[outliers_to_drop]"
   ]
  },
  {
   "cell_type": "markdown",
   "metadata": {},
   "source": [
    "Os *outliers*, ou valores discrepantes, são valores incomuns no conjunto de dados que podem distorcer as estatísticas.\n",
    "\n",
    "A primeira consequência da existência de valores discrepantes no conjunto de dados pode ser uma distorção em estatísticas univariadas, como a média ou a variância. Isso pode aumentar muito a variância ou distorcer a média.\n",
    "\n",
    "Também pode distorcer correlações entre variáveis, capazes de gerar resultados enganosos. Isso leva a outro problema, que é a incapacidade de generalização do modelo preditivo.\n",
    "\n",
    "Se os resultados forem baseados principalmente nos efeitos de valores discrepantes, talvez esses valores não ocorram em outras situações, o que levaria a uma distorção das nossas conclusões por este pequeno número de casos.\n",
    "\n",
    "Nesses casos, temos que fazer uma escolha. Podemos simplesmente excluir os registros com valores discrepantes, o que não seria muito bom do ponto de vista do treinamento do modelo, porque podemos perder informações valiosas (por isso, só podemos fazer isso se não forem muitos os registros *outliers*). Também temos a opção de transformar as variáveis, por exemplo, fazendo o logaritmo da variável, ou elevando-a ao quadrado. Isso torna as pontuações e a distribuição mais simétricas e geralmente funciona melhor na maioria das análises. Além disso, podemos usar medidas ou procedimentos mais robustos, menos influenciadas por valores discrepantes. Sabe-se, por exemplo, que a mediana é menos influenciada por *outliers* do que a média, e procedimentos como árvores de decisão tendem a ser menos influenciados por *outliers*.\n",
    "\n",
    "No presente caso, temos 81 registros que possuem mais de um valor *outlier*, o que corresponde a aproximadamente 9% de todo o conjunto de dados de treino. Na minha opinião, trata-se de uma quantidade grande de informação que seria perdida numa eventual exclusão, razão pela qual optarei por utilizar procedimentos de treinamento menos influenciáveis por *outliers* ao invés de excluir esses dados.\n",
    "\n",
    "Vejamos, então, a correlação entre as variáveis do conjunto de dados."
   ]
  },
  {
   "cell_type": "code",
   "execution_count": 19,
   "metadata": {},
   "outputs": [
    {
     "data": {
      "image/png": "[encoded data removed]",
      "text/plain": [
       "<Figure size 1008x864 with 2 Axes>"
      ]
     },
     "metadata": {
      "needs_background": "light"
     },
     "output_type": "display_data"
    }
   ],
   "source": [
    "# plota heatmap de correlação entre dados númericos\n",
    "\n",
    "plt.figure(figsize=(14,12))\n",
    "plt.title('Correlações entre variáveis', y=1.05, size=15)\n",
    "sns.heatmap(train.corr(), cmap='coolwarm', fmt='.2f', linewidths=0.1, vmax=1.0, square=True, linecolor='white', annot=True);"
   ]
  },
  {
   "cell_type": "markdown",
   "metadata": {},
   "source": [
    "Uma coisa que temos que ter em mente é que correlação não implica causalidade. Ou seja, não podemos confundir correlação com causa e efeito.\n",
    "\n",
    "É interessante a análise das correlações entre variáveis porque são fenômenos aparentemente relacionados que acontecem ao mesmo tempo e podem suscitar perguntas a serem investigadas, mas elas não são, em si, respostas.\n",
    "\n",
    "O método utilizado para aferir a correlação das variáveis foi o de Pearson.\n",
    "\n",
    "O coeficiente de correlação de Pearson mede o grau da correlação (e a direção dessa correlação, se positiva ou negativa) entre duas variáveis de escala métrica.\n",
    "\n",
    "Este coeficiente, normalmente representado por ρ assume apenas valores entre -1 e 1.\n",
    "\n",
    "- *p = 1* significa uma correlação perfeita positiva entre as duas variáveis;\n",
    "- *p = -1* significa uma correlação negativa perfeita entre as duas variáveis - Isto é, se uma aumenta, a outra sempre diminui;\n",
    "- *p = 0* significa que as duas variáveis não dependem linearmente uma da outra. No entanto, pode existir uma dependência não linear. Assim, o resultado *p = 0* deve ser investigado por outros meios.\n",
    "\n",
    "Podemos interpretar *p* da seguinte forma:\n",
    "\n",
    "- 0,9 para mais ou para menos indica uma correlação muito forte;\n",
    "- 0,7 a 0,9 positivo ou negativo indica uma correlação forte;\n",
    "- 0,5 a 0,7 positivo ou negativo indica uma correlação moderada;\n",
    "- 0,3 a 0,5 positivo ou negativo indica uma correlação fraca;\n",
    "- 0 a 0,3 positivo ou negativo indica uma correlação desprezível.\n",
    "\n",
    "No heatmap de correlações entre as variáveis numéricas, podemos tirar algumas conclusões sobre o conjunto de dados de treino:\n",
    "\n",
    "- A correlação entre sobreviência e classe é -0,34, o que significa que é fraca e negativa (uma correlação negativa, também chamada de inversa, indica que as duas variáveis movem-se em direções opostas e que essa relação é mais forte quanto mais o coeficiente se aproxima de -1);\n",
    "- A correlação entre sobreviência e idade é -0,08, o que significa que é desprezível e negativa;\n",
    "- A correlação entre sobreviência e esposas e irmãos é -0,04, o que significa que é desprezível e negativa;\n",
    "- A correlação entre sobreviência e filhos e outros parentes é 0,08, o que significa que é desprezível e positiva (uma correlação positiva indica que as duas variáveis se movem juntas e que essa relação é mais forte quanto mais o coeficiente se aproxima de 1);\n",
    "- A correlação entre sobreviência e tarifa é 0,26, o que significa que é desprezível e positiva."
   ]
  },
  {
   "cell_type": "markdown",
   "metadata": {},
   "source": [
    "## 4. Transformação dos dados"
   ]
  },
  {
   "cell_type": "markdown",
   "metadata": {},
   "source": [
    "Vamos iniciar agora a transformação dos dados, para melhorar a eficiência do nosso modelo preditivo.\n",
    "\n",
    "Primeiro, iremos separar a coluna Survived do restante do dataset de treino, para que não sofra alterações indesejadas, e a transformaremos em um *array* para utilização posterior."
   ]
  },
  {
   "cell_type": "code",
   "execution_count": 20,
   "metadata": {},
   "outputs": [],
   "source": [
    "# separa coluna Survived do restante do dataset de treino\n",
    "train, y_train = train.drop('Survived', axis = 1), np.array(train.Survived).ravel()"
   ]
  },
  {
   "cell_type": "markdown",
   "metadata": {},
   "source": [
    "Agora criaremos uma coluna *Train* para identificar quais dados são do conjunto de treino e quais dados são do conjunto de teste, pois teremos que separar os dados novamente mais tarde."
   ]
  },
  {
   "cell_type": "code",
   "execution_count": 21,
   "metadata": {},
   "outputs": [],
   "source": [
    "# cria variável de identificação para cada dataset\n",
    "train['train'] = 1\n",
    "test['train']  = 0"
   ]
  },
  {
   "cell_type": "markdown",
   "metadata": {},
   "source": [
    "Agora iremos agrupar todos os dados de treino e de teste em um novo *dataframe*, já que as transformações que fazemos nos dados de treino devem ser realizadas também nos dados de teste.\n",
    "\n",
    "Após isso, preenchemos os campos vazios e nulos com *NaN* (*Not a Number*).\n",
    "\n",
    "Por fim, verificamos a quantidade de valores nulos no conjunto de dados."
   ]
  },
  {
   "cell_type": "code",
   "execution_count": 22,
   "metadata": {},
   "outputs": [
    {
     "data": {
      "text/plain": [
       "PassengerId       0\n",
       "Pclass            0\n",
       "Name              0\n",
       "Sex               0\n",
       "Age             263\n",
       "SibSp             0\n",
       "Parch             0\n",
       "Ticket            0\n",
       "Fare              1\n",
       "Cabin          1014\n",
       "Embarked          2\n",
       "train             0\n",
       "dtype: int64"
      ]
     },
     "execution_count": 22,
     "metadata": {},
     "output_type": "execute_result"
    }
   ],
   "source": [
    "# concatena dados em um único dataframe e preenche campos vazios e nulos com NaN\n",
    "df_total = pd.concat(objs=[train, test], axis=0).reset_index(drop=True)\n",
    "df_total = df_total.fillna(np.nan)\n",
    "\n",
    "# verifica quantidade de valores nulos no conjunto inteiro\n",
    "df_total.isnull().sum()"
   ]
  },
  {
   "cell_type": "markdown",
   "metadata": {},
   "source": [
    "Podemos verificar que há 263 valores nulos na variável *Age*, 1 valor nulo na variável *Fare*, 1014 valores nulos na variável *Cabin* e 2 valores nulos na variável *Embarked*.\n",
    "\n",
    "Agora nós criaremos uma variável *dummy*, para indicar se o indivíduo possuía uma cabine no navio ou não.\n",
    "\n",
    "A estratégia aqui é transformar uma variável categórica, como a de cabine, em uma variável binária, que descreve se determinada característica está ou não presente, ou se é ou não verdadeira, e que pode ser interpretada pelo modelo preditivo.\n",
    "\n",
    "Essa variável poderia ser útil se pudermos estabelecer uma relação entre ter uma cabine e sobreviver à tragédia."
   ]
  },
  {
   "cell_type": "code",
   "execution_count": 23,
   "metadata": {},
   "outputs": [
    {
     "data": {
      "text/html": [
       "<div>\n",
       "<style scoped>\n",
       "    .dataframe tbody tr th:only-of-type {\n",
       "        vertical-align: middle;\n",
       "    }\n",
       "\n",
       "    .dataframe tbody tr th {\n",
       "        vertical-align: top;\n",
       "    }\n",
       "\n",
       "    .dataframe thead th {\n",
       "        text-align: right;\n",
       "    }\n",
       "</style>\n",
       "<table border=\"1\" class=\"dataframe\">\n",
       "  <thead>\n",
       "    <tr style=\"text-align: right;\">\n",
       "      <th></th>\n",
       "      <th>PassengerId</th>\n",
       "      <th>Pclass</th>\n",
       "      <th>Name</th>\n",
       "      <th>Sex</th>\n",
       "      <th>Age</th>\n",
       "      <th>SibSp</th>\n",
       "      <th>Parch</th>\n",
       "      <th>Ticket</th>\n",
       "      <th>Fare</th>\n",
       "      <th>Cabin</th>\n",
       "      <th>Embarked</th>\n",
       "      <th>train</th>\n",
       "      <th>Has_Cabin</th>\n",
       "    </tr>\n",
       "  </thead>\n",
       "  <tbody>\n",
       "    <tr>\n",
       "      <th>0</th>\n",
       "      <td>1</td>\n",
       "      <td>3</td>\n",
       "      <td>Braund, Mr. Owen Harris</td>\n",
       "      <td>male</td>\n",
       "      <td>22.0</td>\n",
       "      <td>1</td>\n",
       "      <td>0</td>\n",
       "      <td>A/5 21171</td>\n",
       "      <td>7.2500</td>\n",
       "      <td>NaN</td>\n",
       "      <td>S</td>\n",
       "      <td>1</td>\n",
       "      <td>0</td>\n",
       "    </tr>\n",
       "    <tr>\n",
       "      <th>1</th>\n",
       "      <td>2</td>\n",
       "      <td>1</td>\n",
       "      <td>Cumings, Mrs. John Bradley (Florence Briggs Th...</td>\n",
       "      <td>female</td>\n",
       "      <td>38.0</td>\n",
       "      <td>1</td>\n",
       "      <td>0</td>\n",
       "      <td>PC 17599</td>\n",
       "      <td>71.2833</td>\n",
       "      <td>C85</td>\n",
       "      <td>C</td>\n",
       "      <td>1</td>\n",
       "      <td>1</td>\n",
       "    </tr>\n",
       "    <tr>\n",
       "      <th>2</th>\n",
       "      <td>3</td>\n",
       "      <td>3</td>\n",
       "      <td>Heikkinen, Miss. Laina</td>\n",
       "      <td>female</td>\n",
       "      <td>26.0</td>\n",
       "      <td>0</td>\n",
       "      <td>0</td>\n",
       "      <td>STON/O2. 3101282</td>\n",
       "      <td>7.9250</td>\n",
       "      <td>NaN</td>\n",
       "      <td>S</td>\n",
       "      <td>1</td>\n",
       "      <td>0</td>\n",
       "    </tr>\n",
       "    <tr>\n",
       "      <th>3</th>\n",
       "      <td>4</td>\n",
       "      <td>1</td>\n",
       "      <td>Futrelle, Mrs. Jacques Heath (Lily May Peel)</td>\n",
       "      <td>female</td>\n",
       "      <td>35.0</td>\n",
       "      <td>1</td>\n",
       "      <td>0</td>\n",
       "      <td>113803</td>\n",
       "      <td>53.1000</td>\n",
       "      <td>C123</td>\n",
       "      <td>S</td>\n",
       "      <td>1</td>\n",
       "      <td>1</td>\n",
       "    </tr>\n",
       "    <tr>\n",
       "      <th>4</th>\n",
       "      <td>5</td>\n",
       "      <td>3</td>\n",
       "      <td>Allen, Mr. William Henry</td>\n",
       "      <td>male</td>\n",
       "      <td>35.0</td>\n",
       "      <td>0</td>\n",
       "      <td>0</td>\n",
       "      <td>373450</td>\n",
       "      <td>8.0500</td>\n",
       "      <td>NaN</td>\n",
       "      <td>S</td>\n",
       "      <td>1</td>\n",
       "      <td>0</td>\n",
       "    </tr>\n",
       "  </tbody>\n",
       "</table>\n",
       "</div>"
      ],
      "text/plain": [
       "   PassengerId  Pclass                                               Name  \\\n",
       "0            1       3                            Braund, Mr. Owen Harris   \n",
       "1            2       1  Cumings, Mrs. John Bradley (Florence Briggs Th...   \n",
       "2            3       3                             Heikkinen, Miss. Laina   \n",
       "3            4       1       Futrelle, Mrs. Jacques Heath (Lily May Peel)   \n",
       "4            5       3                           Allen, Mr. William Henry   \n",
       "\n",
       "      Sex   Age  SibSp  Parch            Ticket     Fare Cabin Embarked  \\\n",
       "0    male  22.0      1      0         A/5 21171   7.2500   NaN        S   \n",
       "1  female  38.0      1      0          PC 17599  71.2833   C85        C   \n",
       "2  female  26.0      0      0  STON/O2. 3101282   7.9250   NaN        S   \n",
       "3  female  35.0      1      0            113803  53.1000  C123        S   \n",
       "4    male  35.0      0      0            373450   8.0500   NaN        S   \n",
       "\n",
       "   train  Has_Cabin  \n",
       "0      1          0  \n",
       "1      1          1  \n",
       "2      1          0  \n",
       "3      1          1  \n",
       "4      1          0  "
      ]
     },
     "execution_count": 23,
     "metadata": {},
     "output_type": "execute_result"
    }
   ],
   "source": [
    "# cria coluna que informa se um passageiro possuía uma cabine\n",
    "\n",
    "df_total['Has_Cabin'] = df_total[\"Cabin\"].apply(lambda x: 0 if type(x) == float else 1)\n",
    "\n",
    "df_total.head()"
   ]
  },
  {
   "cell_type": "markdown",
   "metadata": {},
   "source": [
    "Igualmente, criaremos uma variável que reflete o tamanho do grupo familiar.\n",
    "\n",
    "Essa variável pode ser útil se pudermos estabelecer uma relação entre o grupo familiar e a sobrevivência à tragédia.\n",
    "\n",
    "É possível que, no momento da tragédia, por exemplo, algumas pessoas tenham perdido a oportunidade de se salvar procurando por seus familiares... ou o contrário: como a tragédia ocorreu à noite, pessoas que estavam desacompanhadas podem não ter percebido tudo acontecer e morreram sem aviso."
   ]
  },
  {
   "cell_type": "code",
   "execution_count": 24,
   "metadata": {},
   "outputs": [
    {
     "data": {
      "text/html": [
       "<div>\n",
       "<style scoped>\n",
       "    .dataframe tbody tr th:only-of-type {\n",
       "        vertical-align: middle;\n",
       "    }\n",
       "\n",
       "    .dataframe tbody tr th {\n",
       "        vertical-align: top;\n",
       "    }\n",
       "\n",
       "    .dataframe thead th {\n",
       "        text-align: right;\n",
       "    }\n",
       "</style>\n",
       "<table border=\"1\" class=\"dataframe\">\n",
       "  <thead>\n",
       "    <tr style=\"text-align: right;\">\n",
       "      <th></th>\n",
       "      <th>PassengerId</th>\n",
       "      <th>Pclass</th>\n",
       "      <th>Name</th>\n",
       "      <th>Sex</th>\n",
       "      <th>Age</th>\n",
       "      <th>SibSp</th>\n",
       "      <th>Parch</th>\n",
       "      <th>Ticket</th>\n",
       "      <th>Fare</th>\n",
       "      <th>Cabin</th>\n",
       "      <th>Embarked</th>\n",
       "      <th>train</th>\n",
       "      <th>Has_Cabin</th>\n",
       "      <th>FamilySize</th>\n",
       "    </tr>\n",
       "  </thead>\n",
       "  <tbody>\n",
       "    <tr>\n",
       "      <th>0</th>\n",
       "      <td>1</td>\n",
       "      <td>3</td>\n",
       "      <td>Braund, Mr. Owen Harris</td>\n",
       "      <td>male</td>\n",
       "      <td>22.0</td>\n",
       "      <td>1</td>\n",
       "      <td>0</td>\n",
       "      <td>A/5 21171</td>\n",
       "      <td>7.2500</td>\n",
       "      <td>NaN</td>\n",
       "      <td>S</td>\n",
       "      <td>1</td>\n",
       "      <td>0</td>\n",
       "      <td>2</td>\n",
       "    </tr>\n",
       "    <tr>\n",
       "      <th>1</th>\n",
       "      <td>2</td>\n",
       "      <td>1</td>\n",
       "      <td>Cumings, Mrs. John Bradley (Florence Briggs Th...</td>\n",
       "      <td>female</td>\n",
       "      <td>38.0</td>\n",
       "      <td>1</td>\n",
       "      <td>0</td>\n",
       "      <td>PC 17599</td>\n",
       "      <td>71.2833</td>\n",
       "      <td>C85</td>\n",
       "      <td>C</td>\n",
       "      <td>1</td>\n",
       "      <td>1</td>\n",
       "      <td>2</td>\n",
       "    </tr>\n",
       "    <tr>\n",
       "      <th>2</th>\n",
       "      <td>3</td>\n",
       "      <td>3</td>\n",
       "      <td>Heikkinen, Miss. Laina</td>\n",
       "      <td>female</td>\n",
       "      <td>26.0</td>\n",
       "      <td>0</td>\n",
       "      <td>0</td>\n",
       "      <td>STON/O2. 3101282</td>\n",
       "      <td>7.9250</td>\n",
       "      <td>NaN</td>\n",
       "      <td>S</td>\n",
       "      <td>1</td>\n",
       "      <td>0</td>\n",
       "      <td>1</td>\n",
       "    </tr>\n",
       "    <tr>\n",
       "      <th>3</th>\n",
       "      <td>4</td>\n",
       "      <td>1</td>\n",
       "      <td>Futrelle, Mrs. Jacques Heath (Lily May Peel)</td>\n",
       "      <td>female</td>\n",
       "      <td>35.0</td>\n",
       "      <td>1</td>\n",
       "      <td>0</td>\n",
       "      <td>113803</td>\n",
       "      <td>53.1000</td>\n",
       "      <td>C123</td>\n",
       "      <td>S</td>\n",
       "      <td>1</td>\n",
       "      <td>1</td>\n",
       "      <td>2</td>\n",
       "    </tr>\n",
       "    <tr>\n",
       "      <th>4</th>\n",
       "      <td>5</td>\n",
       "      <td>3</td>\n",
       "      <td>Allen, Mr. William Henry</td>\n",
       "      <td>male</td>\n",
       "      <td>35.0</td>\n",
       "      <td>0</td>\n",
       "      <td>0</td>\n",
       "      <td>373450</td>\n",
       "      <td>8.0500</td>\n",
       "      <td>NaN</td>\n",
       "      <td>S</td>\n",
       "      <td>1</td>\n",
       "      <td>0</td>\n",
       "      <td>1</td>\n",
       "    </tr>\n",
       "  </tbody>\n",
       "</table>\n",
       "</div>"
      ],
      "text/plain": [
       "   PassengerId  Pclass                                               Name  \\\n",
       "0            1       3                            Braund, Mr. Owen Harris   \n",
       "1            2       1  Cumings, Mrs. John Bradley (Florence Briggs Th...   \n",
       "2            3       3                             Heikkinen, Miss. Laina   \n",
       "3            4       1       Futrelle, Mrs. Jacques Heath (Lily May Peel)   \n",
       "4            5       3                           Allen, Mr. William Henry   \n",
       "\n",
       "      Sex   Age  SibSp  Parch            Ticket     Fare Cabin Embarked  \\\n",
       "0    male  22.0      1      0         A/5 21171   7.2500   NaN        S   \n",
       "1  female  38.0      1      0          PC 17599  71.2833   C85        C   \n",
       "2  female  26.0      0      0  STON/O2. 3101282   7.9250   NaN        S   \n",
       "3  female  35.0      1      0            113803  53.1000  C123        S   \n",
       "4    male  35.0      0      0            373450   8.0500   NaN        S   \n",
       "\n",
       "   train  Has_Cabin  FamilySize  \n",
       "0      1          0           2  \n",
       "1      1          1           2  \n",
       "2      1          0           1  \n",
       "3      1          1           2  \n",
       "4      1          0           1  "
      ]
     },
     "execution_count": 24,
     "metadata": {},
     "output_type": "execute_result"
    }
   ],
   "source": [
    "# cria coluna que informa o tamanho da família do passageiro (contando com ele, combinando SibSp e Parch)\n",
    "\n",
    "df_total['FamilySize'] = df_total['SibSp'] + df_total['Parch'] + 1\n",
    "\n",
    "df_total.head()"
   ]
  },
  {
   "cell_type": "markdown",
   "metadata": {},
   "source": [
    "Neste momento, nós faremos o tratamento de valores faltantes (*missing*) da variável do local de embarque.\n",
    "\n",
    "Para isso, preenchemos os registros faltantes com o valor modal para diminuir eventual distorção com o mínimo de impacto possível nos dados."
   ]
  },
  {
   "cell_type": "code",
   "execution_count": 25,
   "metadata": {},
   "outputs": [
    {
     "data": {
      "text/plain": [
       "PassengerId       0\n",
       "Pclass            0\n",
       "Name              0\n",
       "Sex               0\n",
       "Age             263\n",
       "SibSp             0\n",
       "Parch             0\n",
       "Ticket            0\n",
       "Fare              1\n",
       "Cabin          1014\n",
       "Embarked          0\n",
       "train             0\n",
       "Has_Cabin         0\n",
       "FamilySize        0\n",
       "dtype: int64"
      ]
     },
     "execution_count": 25,
     "metadata": {},
     "output_type": "execute_result"
    }
   ],
   "source": [
    "# remove todos os valores NULL na coluna Embarked, preenchendo com o valor modal\n",
    "\n",
    "mode_embarked = df_total['Embarked'].mode()\n",
    "\n",
    "df_total['Embarked'].fillna(mode_embarked[0], inplace=True)\n",
    "\n",
    "df_total.isnull().sum()"
   ]
  },
  {
   "cell_type": "markdown",
   "metadata": {},
   "source": [
    "Da mesma forma, faremos o tratamento de valores faltantes (*missing*) da variável de tarifa.\n",
    "\n",
    "Para isso, preenchemos os registros faltantes com o valor mediano para diminuir eventual distorção com o mínimo de impacto possível nos dados."
   ]
  },
  {
   "cell_type": "code",
   "execution_count": 26,
   "metadata": {},
   "outputs": [
    {
     "data": {
      "text/plain": [
       "PassengerId       0\n",
       "Pclass            0\n",
       "Name              0\n",
       "Sex               0\n",
       "Age             263\n",
       "SibSp             0\n",
       "Parch             0\n",
       "Ticket            0\n",
       "Fare              0\n",
       "Cabin          1014\n",
       "Embarked          0\n",
       "train             0\n",
       "Has_Cabin         0\n",
       "FamilySize        0\n",
       "dtype: int64"
      ]
     },
     "execution_count": 26,
     "metadata": {},
     "output_type": "execute_result"
    }
   ],
   "source": [
    "# remove todos os valores NULL na coluna Fare, preenchendo com o valor mediano\n",
    "\n",
    "median_fare = df_total['Fare'].median()\n",
    "\n",
    "df_total['Fare'].fillna(median_fare, inplace=True)\n",
    "\n",
    "df_total.isnull().sum()"
   ]
  },
  {
   "cell_type": "markdown",
   "metadata": {},
   "source": [
    "Agora, criaremos uma nova variável, que reflete a faixa de valor da tarifa paga.\n",
    "\n",
    "Essa variável foi criada como uma forma de discretizar a varíavel tarifa, que é contínua.\n",
    "\n",
    "Muitos algoritmos de aprendizado de máquina são conhecidos por produzir modelos melhores quando discretizados os atributos contínuos."
   ]
  },
  {
   "cell_type": "code",
   "execution_count": 27,
   "metadata": {},
   "outputs": [
    {
     "data": {
      "text/html": [
       "<div>\n",
       "<style scoped>\n",
       "    .dataframe tbody tr th:only-of-type {\n",
       "        vertical-align: middle;\n",
       "    }\n",
       "\n",
       "    .dataframe tbody tr th {\n",
       "        vertical-align: top;\n",
       "    }\n",
       "\n",
       "    .dataframe thead th {\n",
       "        text-align: right;\n",
       "    }\n",
       "</style>\n",
       "<table border=\"1\" class=\"dataframe\">\n",
       "  <thead>\n",
       "    <tr style=\"text-align: right;\">\n",
       "      <th></th>\n",
       "      <th>PassengerId</th>\n",
       "      <th>Pclass</th>\n",
       "      <th>Name</th>\n",
       "      <th>Sex</th>\n",
       "      <th>Age</th>\n",
       "      <th>SibSp</th>\n",
       "      <th>Parch</th>\n",
       "      <th>Ticket</th>\n",
       "      <th>Fare</th>\n",
       "      <th>Cabin</th>\n",
       "      <th>Embarked</th>\n",
       "      <th>train</th>\n",
       "      <th>Has_Cabin</th>\n",
       "      <th>FamilySize</th>\n",
       "      <th>CategoricalFare</th>\n",
       "    </tr>\n",
       "  </thead>\n",
       "  <tbody>\n",
       "    <tr>\n",
       "      <th>0</th>\n",
       "      <td>1</td>\n",
       "      <td>3</td>\n",
       "      <td>Braund, Mr. Owen Harris</td>\n",
       "      <td>male</td>\n",
       "      <td>22.0</td>\n",
       "      <td>1</td>\n",
       "      <td>0</td>\n",
       "      <td>A/5 21171</td>\n",
       "      <td>7.2500</td>\n",
       "      <td>NaN</td>\n",
       "      <td>S</td>\n",
       "      <td>1</td>\n",
       "      <td>0</td>\n",
       "      <td>2</td>\n",
       "      <td>(-0.001, 7.896]</td>\n",
       "    </tr>\n",
       "    <tr>\n",
       "      <th>1</th>\n",
       "      <td>2</td>\n",
       "      <td>1</td>\n",
       "      <td>Cumings, Mrs. John Bradley (Florence Briggs Th...</td>\n",
       "      <td>female</td>\n",
       "      <td>38.0</td>\n",
       "      <td>1</td>\n",
       "      <td>0</td>\n",
       "      <td>PC 17599</td>\n",
       "      <td>71.2833</td>\n",
       "      <td>C85</td>\n",
       "      <td>C</td>\n",
       "      <td>1</td>\n",
       "      <td>1</td>\n",
       "      <td>2</td>\n",
       "      <td>(31.275, 512.329]</td>\n",
       "    </tr>\n",
       "    <tr>\n",
       "      <th>2</th>\n",
       "      <td>3</td>\n",
       "      <td>3</td>\n",
       "      <td>Heikkinen, Miss. Laina</td>\n",
       "      <td>female</td>\n",
       "      <td>26.0</td>\n",
       "      <td>0</td>\n",
       "      <td>0</td>\n",
       "      <td>STON/O2. 3101282</td>\n",
       "      <td>7.9250</td>\n",
       "      <td>NaN</td>\n",
       "      <td>S</td>\n",
       "      <td>1</td>\n",
       "      <td>0</td>\n",
       "      <td>1</td>\n",
       "      <td>(7.896, 14.454]</td>\n",
       "    </tr>\n",
       "    <tr>\n",
       "      <th>3</th>\n",
       "      <td>4</td>\n",
       "      <td>1</td>\n",
       "      <td>Futrelle, Mrs. Jacques Heath (Lily May Peel)</td>\n",
       "      <td>female</td>\n",
       "      <td>35.0</td>\n",
       "      <td>1</td>\n",
       "      <td>0</td>\n",
       "      <td>113803</td>\n",
       "      <td>53.1000</td>\n",
       "      <td>C123</td>\n",
       "      <td>S</td>\n",
       "      <td>1</td>\n",
       "      <td>1</td>\n",
       "      <td>2</td>\n",
       "      <td>(31.275, 512.329]</td>\n",
       "    </tr>\n",
       "    <tr>\n",
       "      <th>4</th>\n",
       "      <td>5</td>\n",
       "      <td>3</td>\n",
       "      <td>Allen, Mr. William Henry</td>\n",
       "      <td>male</td>\n",
       "      <td>35.0</td>\n",
       "      <td>0</td>\n",
       "      <td>0</td>\n",
       "      <td>373450</td>\n",
       "      <td>8.0500</td>\n",
       "      <td>NaN</td>\n",
       "      <td>S</td>\n",
       "      <td>1</td>\n",
       "      <td>0</td>\n",
       "      <td>1</td>\n",
       "      <td>(7.896, 14.454]</td>\n",
       "    </tr>\n",
       "  </tbody>\n",
       "</table>\n",
       "</div>"
      ],
      "text/plain": [
       "   PassengerId  Pclass                                               Name  \\\n",
       "0            1       3                            Braund, Mr. Owen Harris   \n",
       "1            2       1  Cumings, Mrs. John Bradley (Florence Briggs Th...   \n",
       "2            3       3                             Heikkinen, Miss. Laina   \n",
       "3            4       1       Futrelle, Mrs. Jacques Heath (Lily May Peel)   \n",
       "4            5       3                           Allen, Mr. William Henry   \n",
       "\n",
       "      Sex   Age  SibSp  Parch            Ticket     Fare Cabin Embarked  \\\n",
       "0    male  22.0      1      0         A/5 21171   7.2500   NaN        S   \n",
       "1  female  38.0      1      0          PC 17599  71.2833   C85        C   \n",
       "2  female  26.0      0      0  STON/O2. 3101282   7.9250   NaN        S   \n",
       "3  female  35.0      1      0            113803  53.1000  C123        S   \n",
       "4    male  35.0      0      0            373450   8.0500   NaN        S   \n",
       "\n",
       "   train  Has_Cabin  FamilySize    CategoricalFare  \n",
       "0      1          0           2    (-0.001, 7.896]  \n",
       "1      1          1           2  (31.275, 512.329]  \n",
       "2      1          0           1    (7.896, 14.454]  \n",
       "3      1          1           2  (31.275, 512.329]  \n",
       "4      1          0           1    (7.896, 14.454]  "
      ]
     },
     "execution_count": 27,
     "metadata": {},
     "output_type": "execute_result"
    }
   ],
   "source": [
    "# cria coluna com categorias (classes) de tarifas (Fare), dividindo os dados em quartis\n",
    "\n",
    "df_total['CategoricalFare'] = pd.qcut(df_total['Fare'], 4)\n",
    "\n",
    "df_total.head()"
   ]
  },
  {
   "cell_type": "markdown",
   "metadata": {},
   "source": [
    "Então, faremos o tratamento de valores faltantes (missing) da variável de idade.\n",
    "\n",
    "Para isso, preenchemos os registros faltantes com valores aleatórios dentro do desvio-padrão considerando a média de idades do conjunto de dados, para diminuir eventual distorção com o mínimo de impacto possível nos dados."
   ]
  },
  {
   "cell_type": "code",
   "execution_count": 28,
   "metadata": {},
   "outputs": [
    {
     "data": {
      "text/plain": [
       "PassengerId           0\n",
       "Pclass                0\n",
       "Name                  0\n",
       "Sex                   0\n",
       "Age                   0\n",
       "SibSp                 0\n",
       "Parch                 0\n",
       "Ticket                0\n",
       "Fare                  0\n",
       "Cabin              1014\n",
       "Embarked              0\n",
       "train                 0\n",
       "Has_Cabin             0\n",
       "FamilySize            0\n",
       "CategoricalFare       0\n",
       "dtype: int64"
      ]
     },
     "execution_count": 28,
     "metadata": {},
     "output_type": "execute_result"
    }
   ],
   "source": [
    "# remove todos os valores NULL na coluna Age, preenchendo com valores aleatórios dentro do desvio-padrão considerando a média de idades\n",
    "\n",
    "age_avg = df_total['Age'].mean()\n",
    "age_std = df_total['Age'].std()\n",
    "age_null_count = df_total['Age'].isnull().sum()\n",
    "age_null_random_list = np.random.randint(age_avg - age_std, age_avg + age_std, size=age_null_count)\n",
    "df_total['Age'][np.isnan(df_total['Age'])] = age_null_random_list\n",
    "df_total['Age'] = df_total['Age'].astype(int)\n",
    "df_total.isnull().sum()"
   ]
  },
  {
   "cell_type": "markdown",
   "metadata": {},
   "source": [
    "Assim como a variável de faixa de valor da tarifa paga, aqui nós criamos uma nova variável, que reflete a faixa de idade dos indivíduos.\n",
    "\n",
    "Essa variável foi criada como uma forma de discretizar a varíavel idade, que é contínua."
   ]
  },
  {
   "cell_type": "code",
   "execution_count": 29,
   "metadata": {},
   "outputs": [
    {
     "data": {
      "text/html": [
       "<div>\n",
       "<style scoped>\n",
       "    .dataframe tbody tr th:only-of-type {\n",
       "        vertical-align: middle;\n",
       "    }\n",
       "\n",
       "    .dataframe tbody tr th {\n",
       "        vertical-align: top;\n",
       "    }\n",
       "\n",
       "    .dataframe thead th {\n",
       "        text-align: right;\n",
       "    }\n",
       "</style>\n",
       "<table border=\"1\" class=\"dataframe\">\n",
       "  <thead>\n",
       "    <tr style=\"text-align: right;\">\n",
       "      <th></th>\n",
       "      <th>PassengerId</th>\n",
       "      <th>Pclass</th>\n",
       "      <th>Name</th>\n",
       "      <th>Sex</th>\n",
       "      <th>Age</th>\n",
       "      <th>SibSp</th>\n",
       "      <th>Parch</th>\n",
       "      <th>Ticket</th>\n",
       "      <th>Fare</th>\n",
       "      <th>Cabin</th>\n",
       "      <th>Embarked</th>\n",
       "      <th>train</th>\n",
       "      <th>Has_Cabin</th>\n",
       "      <th>FamilySize</th>\n",
       "      <th>CategoricalFare</th>\n",
       "      <th>CategoricalAge</th>\n",
       "    </tr>\n",
       "  </thead>\n",
       "  <tbody>\n",
       "    <tr>\n",
       "      <th>0</th>\n",
       "      <td>1</td>\n",
       "      <td>3</td>\n",
       "      <td>Braund, Mr. Owen Harris</td>\n",
       "      <td>male</td>\n",
       "      <td>22</td>\n",
       "      <td>1</td>\n",
       "      <td>0</td>\n",
       "      <td>A/5 21171</td>\n",
       "      <td>7.2500</td>\n",
       "      <td>NaN</td>\n",
       "      <td>S</td>\n",
       "      <td>1</td>\n",
       "      <td>0</td>\n",
       "      <td>2</td>\n",
       "      <td>(-0.001, 7.896]</td>\n",
       "      <td>(16.0, 32.0]</td>\n",
       "    </tr>\n",
       "    <tr>\n",
       "      <th>1</th>\n",
       "      <td>2</td>\n",
       "      <td>1</td>\n",
       "      <td>Cumings, Mrs. John Bradley (Florence Briggs Th...</td>\n",
       "      <td>female</td>\n",
       "      <td>38</td>\n",
       "      <td>1</td>\n",
       "      <td>0</td>\n",
       "      <td>PC 17599</td>\n",
       "      <td>71.2833</td>\n",
       "      <td>C85</td>\n",
       "      <td>C</td>\n",
       "      <td>1</td>\n",
       "      <td>1</td>\n",
       "      <td>2</td>\n",
       "      <td>(31.275, 512.329]</td>\n",
       "      <td>(32.0, 48.0]</td>\n",
       "    </tr>\n",
       "    <tr>\n",
       "      <th>2</th>\n",
       "      <td>3</td>\n",
       "      <td>3</td>\n",
       "      <td>Heikkinen, Miss. Laina</td>\n",
       "      <td>female</td>\n",
       "      <td>26</td>\n",
       "      <td>0</td>\n",
       "      <td>0</td>\n",
       "      <td>STON/O2. 3101282</td>\n",
       "      <td>7.9250</td>\n",
       "      <td>NaN</td>\n",
       "      <td>S</td>\n",
       "      <td>1</td>\n",
       "      <td>0</td>\n",
       "      <td>1</td>\n",
       "      <td>(7.896, 14.454]</td>\n",
       "      <td>(16.0, 32.0]</td>\n",
       "    </tr>\n",
       "    <tr>\n",
       "      <th>3</th>\n",
       "      <td>4</td>\n",
       "      <td>1</td>\n",
       "      <td>Futrelle, Mrs. Jacques Heath (Lily May Peel)</td>\n",
       "      <td>female</td>\n",
       "      <td>35</td>\n",
       "      <td>1</td>\n",
       "      <td>0</td>\n",
       "      <td>113803</td>\n",
       "      <td>53.1000</td>\n",
       "      <td>C123</td>\n",
       "      <td>S</td>\n",
       "      <td>1</td>\n",
       "      <td>1</td>\n",
       "      <td>2</td>\n",
       "      <td>(31.275, 512.329]</td>\n",
       "      <td>(32.0, 48.0]</td>\n",
       "    </tr>\n",
       "    <tr>\n",
       "      <th>4</th>\n",
       "      <td>5</td>\n",
       "      <td>3</td>\n",
       "      <td>Allen, Mr. William Henry</td>\n",
       "      <td>male</td>\n",
       "      <td>35</td>\n",
       "      <td>0</td>\n",
       "      <td>0</td>\n",
       "      <td>373450</td>\n",
       "      <td>8.0500</td>\n",
       "      <td>NaN</td>\n",
       "      <td>S</td>\n",
       "      <td>1</td>\n",
       "      <td>0</td>\n",
       "      <td>1</td>\n",
       "      <td>(7.896, 14.454]</td>\n",
       "      <td>(32.0, 48.0]</td>\n",
       "    </tr>\n",
       "  </tbody>\n",
       "</table>\n",
       "</div>"
      ],
      "text/plain": [
       "   PassengerId  Pclass                                               Name  \\\n",
       "0            1       3                            Braund, Mr. Owen Harris   \n",
       "1            2       1  Cumings, Mrs. John Bradley (Florence Briggs Th...   \n",
       "2            3       3                             Heikkinen, Miss. Laina   \n",
       "3            4       1       Futrelle, Mrs. Jacques Heath (Lily May Peel)   \n",
       "4            5       3                           Allen, Mr. William Henry   \n",
       "\n",
       "      Sex  Age  SibSp  Parch            Ticket     Fare Cabin Embarked  train  \\\n",
       "0    male   22      1      0         A/5 21171   7.2500   NaN        S      1   \n",
       "1  female   38      1      0          PC 17599  71.2833   C85        C      1   \n",
       "2  female   26      0      0  STON/O2. 3101282   7.9250   NaN        S      1   \n",
       "3  female   35      1      0            113803  53.1000  C123        S      1   \n",
       "4    male   35      0      0            373450   8.0500   NaN        S      1   \n",
       "\n",
       "   Has_Cabin  FamilySize    CategoricalFare CategoricalAge  \n",
       "0          0           2    (-0.001, 7.896]   (16.0, 32.0]  \n",
       "1          1           2  (31.275, 512.329]   (32.0, 48.0]  \n",
       "2          0           1    (7.896, 14.454]   (16.0, 32.0]  \n",
       "3          1           2  (31.275, 512.329]   (32.0, 48.0]  \n",
       "4          0           1    (7.896, 14.454]   (32.0, 48.0]  "
      ]
     },
     "execution_count": 29,
     "metadata": {},
     "output_type": "execute_result"
    }
   ],
   "source": [
    "# cria coluna com categorias (classes) de idades (Age), dividindo os dados de treino em quintis\n",
    "\n",
    "df_total['CategoricalAge'] = pd.cut(df_total['Age'], 5)\n",
    "\n",
    "df_total.head()"
   ]
  },
  {
   "cell_type": "markdown",
   "metadata": {},
   "source": [
    "Agora, nós definimos uma função para extrair do nome dos passageiros o seu título."
   ]
  },
  {
   "cell_type": "code",
   "execution_count": 30,
   "metadata": {},
   "outputs": [],
   "source": [
    "# define função para extrair o título dos nomes dos passageiros\n",
    "\n",
    "def get_title(name):\n",
    "    title_search = re.search(' ([A-Za-z]+)\\.', name)\n",
    "    \n",
    "    # se existir o título, extrai e retorna\n",
    "    if title_search:\n",
    "        return title_search.group(1)\n",
    "    return \"\""
   ]
  },
  {
   "cell_type": "markdown",
   "metadata": {},
   "source": [
    "Usaremos essa função para criar uma nova variável, que indica o título dos passageiros.\n",
    "\n",
    "Essa variável pode ser útil se pudermos estabelecer uma relação entre o título dos passageiros e a sobrevivência à tragédia."
   ]
  },
  {
   "cell_type": "code",
   "execution_count": 31,
   "metadata": {},
   "outputs": [
    {
     "data": {
      "text/html": [
       "<div>\n",
       "<style scoped>\n",
       "    .dataframe tbody tr th:only-of-type {\n",
       "        vertical-align: middle;\n",
       "    }\n",
       "\n",
       "    .dataframe tbody tr th {\n",
       "        vertical-align: top;\n",
       "    }\n",
       "\n",
       "    .dataframe thead th {\n",
       "        text-align: right;\n",
       "    }\n",
       "</style>\n",
       "<table border=\"1\" class=\"dataframe\">\n",
       "  <thead>\n",
       "    <tr style=\"text-align: right;\">\n",
       "      <th></th>\n",
       "      <th>PassengerId</th>\n",
       "      <th>Pclass</th>\n",
       "      <th>Name</th>\n",
       "      <th>Sex</th>\n",
       "      <th>Age</th>\n",
       "      <th>SibSp</th>\n",
       "      <th>Parch</th>\n",
       "      <th>Ticket</th>\n",
       "      <th>Fare</th>\n",
       "      <th>Cabin</th>\n",
       "      <th>Embarked</th>\n",
       "      <th>train</th>\n",
       "      <th>Has_Cabin</th>\n",
       "      <th>FamilySize</th>\n",
       "      <th>CategoricalFare</th>\n",
       "      <th>CategoricalAge</th>\n",
       "      <th>Title</th>\n",
       "    </tr>\n",
       "  </thead>\n",
       "  <tbody>\n",
       "    <tr>\n",
       "      <th>0</th>\n",
       "      <td>1</td>\n",
       "      <td>3</td>\n",
       "      <td>Braund, Mr. Owen Harris</td>\n",
       "      <td>male</td>\n",
       "      <td>22</td>\n",
       "      <td>1</td>\n",
       "      <td>0</td>\n",
       "      <td>A/5 21171</td>\n",
       "      <td>7.2500</td>\n",
       "      <td>NaN</td>\n",
       "      <td>S</td>\n",
       "      <td>1</td>\n",
       "      <td>0</td>\n",
       "      <td>2</td>\n",
       "      <td>(-0.001, 7.896]</td>\n",
       "      <td>(16.0, 32.0]</td>\n",
       "      <td>Mr</td>\n",
       "    </tr>\n",
       "    <tr>\n",
       "      <th>1</th>\n",
       "      <td>2</td>\n",
       "      <td>1</td>\n",
       "      <td>Cumings, Mrs. John Bradley (Florence Briggs Th...</td>\n",
       "      <td>female</td>\n",
       "      <td>38</td>\n",
       "      <td>1</td>\n",
       "      <td>0</td>\n",
       "      <td>PC 17599</td>\n",
       "      <td>71.2833</td>\n",
       "      <td>C85</td>\n",
       "      <td>C</td>\n",
       "      <td>1</td>\n",
       "      <td>1</td>\n",
       "      <td>2</td>\n",
       "      <td>(31.275, 512.329]</td>\n",
       "      <td>(32.0, 48.0]</td>\n",
       "      <td>Mrs</td>\n",
       "    </tr>\n",
       "    <tr>\n",
       "      <th>2</th>\n",
       "      <td>3</td>\n",
       "      <td>3</td>\n",
       "      <td>Heikkinen, Miss. Laina</td>\n",
       "      <td>female</td>\n",
       "      <td>26</td>\n",
       "      <td>0</td>\n",
       "      <td>0</td>\n",
       "      <td>STON/O2. 3101282</td>\n",
       "      <td>7.9250</td>\n",
       "      <td>NaN</td>\n",
       "      <td>S</td>\n",
       "      <td>1</td>\n",
       "      <td>0</td>\n",
       "      <td>1</td>\n",
       "      <td>(7.896, 14.454]</td>\n",
       "      <td>(16.0, 32.0]</td>\n",
       "      <td>Miss</td>\n",
       "    </tr>\n",
       "    <tr>\n",
       "      <th>3</th>\n",
       "      <td>4</td>\n",
       "      <td>1</td>\n",
       "      <td>Futrelle, Mrs. Jacques Heath (Lily May Peel)</td>\n",
       "      <td>female</td>\n",
       "      <td>35</td>\n",
       "      <td>1</td>\n",
       "      <td>0</td>\n",
       "      <td>113803</td>\n",
       "      <td>53.1000</td>\n",
       "      <td>C123</td>\n",
       "      <td>S</td>\n",
       "      <td>1</td>\n",
       "      <td>1</td>\n",
       "      <td>2</td>\n",
       "      <td>(31.275, 512.329]</td>\n",
       "      <td>(32.0, 48.0]</td>\n",
       "      <td>Mrs</td>\n",
       "    </tr>\n",
       "    <tr>\n",
       "      <th>4</th>\n",
       "      <td>5</td>\n",
       "      <td>3</td>\n",
       "      <td>Allen, Mr. William Henry</td>\n",
       "      <td>male</td>\n",
       "      <td>35</td>\n",
       "      <td>0</td>\n",
       "      <td>0</td>\n",
       "      <td>373450</td>\n",
       "      <td>8.0500</td>\n",
       "      <td>NaN</td>\n",
       "      <td>S</td>\n",
       "      <td>1</td>\n",
       "      <td>0</td>\n",
       "      <td>1</td>\n",
       "      <td>(7.896, 14.454]</td>\n",
       "      <td>(32.0, 48.0]</td>\n",
       "      <td>Mr</td>\n",
       "    </tr>\n",
       "  </tbody>\n",
       "</table>\n",
       "</div>"
      ],
      "text/plain": [
       "   PassengerId  Pclass                                               Name  \\\n",
       "0            1       3                            Braund, Mr. Owen Harris   \n",
       "1            2       1  Cumings, Mrs. John Bradley (Florence Briggs Th...   \n",
       "2            3       3                             Heikkinen, Miss. Laina   \n",
       "3            4       1       Futrelle, Mrs. Jacques Heath (Lily May Peel)   \n",
       "4            5       3                           Allen, Mr. William Henry   \n",
       "\n",
       "      Sex  Age  SibSp  Parch            Ticket     Fare Cabin Embarked  train  \\\n",
       "0    male   22      1      0         A/5 21171   7.2500   NaN        S      1   \n",
       "1  female   38      1      0          PC 17599  71.2833   C85        C      1   \n",
       "2  female   26      0      0  STON/O2. 3101282   7.9250   NaN        S      1   \n",
       "3  female   35      1      0            113803  53.1000  C123        S      1   \n",
       "4    male   35      0      0            373450   8.0500   NaN        S      1   \n",
       "\n",
       "   Has_Cabin  FamilySize    CategoricalFare CategoricalAge Title  \n",
       "0          0           2    (-0.001, 7.896]   (16.0, 32.0]    Mr  \n",
       "1          1           2  (31.275, 512.329]   (32.0, 48.0]   Mrs  \n",
       "2          0           1    (7.896, 14.454]   (16.0, 32.0]  Miss  \n",
       "3          1           2  (31.275, 512.329]   (32.0, 48.0]   Mrs  \n",
       "4          0           1    (7.896, 14.454]   (32.0, 48.0]    Mr  "
      ]
     },
     "execution_count": 31,
     "metadata": {},
     "output_type": "execute_result"
    }
   ],
   "source": [
    "# cria coluna contendo o título dos nomes dos passageiros\n",
    "\n",
    "df_total['Title'] = df_total['Name'].apply(get_title)\n",
    "\n",
    "df_total.head()"
   ]
  },
  {
   "cell_type": "markdown",
   "metadata": {},
   "source": [
    "Como existem muitos títulos que estão em francês, vamos substituí-los pelos seus respectivos correspondentes em inglês. Também agruparemos títulos não comuns no *dataset* em uma única classe."
   ]
  },
  {
   "cell_type": "code",
   "execution_count": 32,
   "metadata": {},
   "outputs": [],
   "source": [
    "# agrupa títulos não comuns em um único grupo \"Rare\" e agrupa títulos franceses em \"Miss\" e \"Mrs\".\n",
    "    \n",
    "df_total['Title'] = df_total['Title'].replace(['Lady', 'Countess','Capt', 'Col','Don', 'Dr', 'Major', 'Rev', 'Sir', 'Jonkheer', 'Dona'], 'Rare')\n",
    "df_total['Title'] = df_total['Title'].replace('Mlle', 'Miss')\n",
    "df_total['Title'] = df_total['Title'].replace('Ms', 'Miss')\n",
    "df_total['Title'] = df_total['Title'].replace('Mme', 'Mrs')"
   ]
  },
  {
   "cell_type": "markdown",
   "metadata": {},
   "source": [
    "Agora nós criaremos variáveis *dummies* para as variáveis categóricas *Sex*, *Title*, *Embarked*, *CategoricalFare* e *CategoricalAge*, para que o modelo preditivo possa interpretar melhor, evitando usar codificação das categorias (ex. conversão dos valores da variável *Embarked* em 0 = S, 1 = C e 2 = Q), o que poderia levar a um modelo enviesado arbitrariamente pela relação hierárquica entre os códigos (neste exemplo, Q seria equivalente a 2 vezes C)."
   ]
  },
  {
   "cell_type": "code",
   "execution_count": 33,
   "metadata": {},
   "outputs": [
    {
     "data": {
      "text/html": [
       "<div>\n",
       "<style scoped>\n",
       "    .dataframe tbody tr th:only-of-type {\n",
       "        vertical-align: middle;\n",
       "    }\n",
       "\n",
       "    .dataframe tbody tr th {\n",
       "        vertical-align: top;\n",
       "    }\n",
       "\n",
       "    .dataframe thead th {\n",
       "        text-align: right;\n",
       "    }\n",
       "</style>\n",
       "<table border=\"1\" class=\"dataframe\">\n",
       "  <thead>\n",
       "    <tr style=\"text-align: right;\">\n",
       "      <th></th>\n",
       "      <th>PassengerId</th>\n",
       "      <th>Pclass</th>\n",
       "      <th>Name</th>\n",
       "      <th>Age</th>\n",
       "      <th>SibSp</th>\n",
       "      <th>Parch</th>\n",
       "      <th>Ticket</th>\n",
       "      <th>Fare</th>\n",
       "      <th>Cabin</th>\n",
       "      <th>Embarked</th>\n",
       "      <th>...</th>\n",
       "      <th>Title_Rare</th>\n",
       "      <th>CategoricalFare_(-0.001, 7.896]</th>\n",
       "      <th>CategoricalFare_(7.896, 14.454]</th>\n",
       "      <th>CategoricalFare_(14.454, 31.275]</th>\n",
       "      <th>CategoricalFare_(31.275, 512.329]</th>\n",
       "      <th>CategoricalAge_(-0.08, 16.0]</th>\n",
       "      <th>CategoricalAge_(16.0, 32.0]</th>\n",
       "      <th>CategoricalAge_(32.0, 48.0]</th>\n",
       "      <th>CategoricalAge_(48.0, 64.0]</th>\n",
       "      <th>CategoricalAge_(64.0, 80.0]</th>\n",
       "    </tr>\n",
       "  </thead>\n",
       "  <tbody>\n",
       "    <tr>\n",
       "      <th>0</th>\n",
       "      <td>1</td>\n",
       "      <td>3</td>\n",
       "      <td>Braund, Mr. Owen Harris</td>\n",
       "      <td>22</td>\n",
       "      <td>1</td>\n",
       "      <td>0</td>\n",
       "      <td>A/5 21171</td>\n",
       "      <td>7.2500</td>\n",
       "      <td>NaN</td>\n",
       "      <td>S</td>\n",
       "      <td>...</td>\n",
       "      <td>0</td>\n",
       "      <td>1</td>\n",
       "      <td>0</td>\n",
       "      <td>0</td>\n",
       "      <td>0</td>\n",
       "      <td>0</td>\n",
       "      <td>1</td>\n",
       "      <td>0</td>\n",
       "      <td>0</td>\n",
       "      <td>0</td>\n",
       "    </tr>\n",
       "    <tr>\n",
       "      <th>1</th>\n",
       "      <td>2</td>\n",
       "      <td>1</td>\n",
       "      <td>Cumings, Mrs. John Bradley (Florence Briggs Th...</td>\n",
       "      <td>38</td>\n",
       "      <td>1</td>\n",
       "      <td>0</td>\n",
       "      <td>PC 17599</td>\n",
       "      <td>71.2833</td>\n",
       "      <td>C85</td>\n",
       "      <td>C</td>\n",
       "      <td>...</td>\n",
       "      <td>0</td>\n",
       "      <td>0</td>\n",
       "      <td>0</td>\n",
       "      <td>0</td>\n",
       "      <td>1</td>\n",
       "      <td>0</td>\n",
       "      <td>0</td>\n",
       "      <td>1</td>\n",
       "      <td>0</td>\n",
       "      <td>0</td>\n",
       "    </tr>\n",
       "    <tr>\n",
       "      <th>2</th>\n",
       "      <td>3</td>\n",
       "      <td>3</td>\n",
       "      <td>Heikkinen, Miss. Laina</td>\n",
       "      <td>26</td>\n",
       "      <td>0</td>\n",
       "      <td>0</td>\n",
       "      <td>STON/O2. 3101282</td>\n",
       "      <td>7.9250</td>\n",
       "      <td>NaN</td>\n",
       "      <td>S</td>\n",
       "      <td>...</td>\n",
       "      <td>0</td>\n",
       "      <td>0</td>\n",
       "      <td>1</td>\n",
       "      <td>0</td>\n",
       "      <td>0</td>\n",
       "      <td>0</td>\n",
       "      <td>1</td>\n",
       "      <td>0</td>\n",
       "      <td>0</td>\n",
       "      <td>0</td>\n",
       "    </tr>\n",
       "    <tr>\n",
       "      <th>3</th>\n",
       "      <td>4</td>\n",
       "      <td>1</td>\n",
       "      <td>Futrelle, Mrs. Jacques Heath (Lily May Peel)</td>\n",
       "      <td>35</td>\n",
       "      <td>1</td>\n",
       "      <td>0</td>\n",
       "      <td>113803</td>\n",
       "      <td>53.1000</td>\n",
       "      <td>C123</td>\n",
       "      <td>S</td>\n",
       "      <td>...</td>\n",
       "      <td>0</td>\n",
       "      <td>0</td>\n",
       "      <td>0</td>\n",
       "      <td>0</td>\n",
       "      <td>1</td>\n",
       "      <td>0</td>\n",
       "      <td>0</td>\n",
       "      <td>1</td>\n",
       "      <td>0</td>\n",
       "      <td>0</td>\n",
       "    </tr>\n",
       "    <tr>\n",
       "      <th>4</th>\n",
       "      <td>5</td>\n",
       "      <td>3</td>\n",
       "      <td>Allen, Mr. William Henry</td>\n",
       "      <td>35</td>\n",
       "      <td>0</td>\n",
       "      <td>0</td>\n",
       "      <td>373450</td>\n",
       "      <td>8.0500</td>\n",
       "      <td>NaN</td>\n",
       "      <td>S</td>\n",
       "      <td>...</td>\n",
       "      <td>0</td>\n",
       "      <td>0</td>\n",
       "      <td>1</td>\n",
       "      <td>0</td>\n",
       "      <td>0</td>\n",
       "      <td>0</td>\n",
       "      <td>0</td>\n",
       "      <td>1</td>\n",
       "      <td>0</td>\n",
       "      <td>0</td>\n",
       "    </tr>\n",
       "  </tbody>\n",
       "</table>\n",
       "<p>5 rows × 29 columns</p>\n",
       "</div>"
      ],
      "text/plain": [
       "   PassengerId  Pclass                                               Name  \\\n",
       "0            1       3                            Braund, Mr. Owen Harris   \n",
       "1            2       1  Cumings, Mrs. John Bradley (Florence Briggs Th...   \n",
       "2            3       3                             Heikkinen, Miss. Laina   \n",
       "3            4       1       Futrelle, Mrs. Jacques Heath (Lily May Peel)   \n",
       "4            5       3                           Allen, Mr. William Henry   \n",
       "\n",
       "   Age  SibSp  Parch            Ticket     Fare Cabin Embarked  ...  \\\n",
       "0   22      1      0         A/5 21171   7.2500   NaN        S  ...   \n",
       "1   38      1      0          PC 17599  71.2833   C85        C  ...   \n",
       "2   26      0      0  STON/O2. 3101282   7.9250   NaN        S  ...   \n",
       "3   35      1      0            113803  53.1000  C123        S  ...   \n",
       "4   35      0      0            373450   8.0500   NaN        S  ...   \n",
       "\n",
       "   Title_Rare  CategoricalFare_(-0.001, 7.896]  \\\n",
       "0           0                                1   \n",
       "1           0                                0   \n",
       "2           0                                0   \n",
       "3           0                                0   \n",
       "4           0                                0   \n",
       "\n",
       "   CategoricalFare_(7.896, 14.454]  CategoricalFare_(14.454, 31.275]  \\\n",
       "0                                0                                 0   \n",
       "1                                0                                 0   \n",
       "2                                1                                 0   \n",
       "3                                0                                 0   \n",
       "4                                1                                 0   \n",
       "\n",
       "   CategoricalFare_(31.275, 512.329]  CategoricalAge_(-0.08, 16.0]  \\\n",
       "0                                  0                             0   \n",
       "1                                  1                             0   \n",
       "2                                  0                             0   \n",
       "3                                  1                             0   \n",
       "4                                  0                             0   \n",
       "\n",
       "   CategoricalAge_(16.0, 32.0]  CategoricalAge_(32.0, 48.0]  \\\n",
       "0                            1                            0   \n",
       "1                            0                            1   \n",
       "2                            1                            0   \n",
       "3                            0                            1   \n",
       "4                            0                            1   \n",
       "\n",
       "   CategoricalAge_(48.0, 64.0]  CategoricalAge_(64.0, 80.0]  \n",
       "0                            0                            0  \n",
       "1                            0                            0  \n",
       "2                            0                            0  \n",
       "3                            0                            0  \n",
       "4                            0                            0  \n",
       "\n",
       "[5 rows x 29 columns]"
      ]
     },
     "execution_count": 33,
     "metadata": {},
     "output_type": "execute_result"
    }
   ],
   "source": [
    "df_total = pd.get_dummies(df_total, prefix=['Sex', 'Title', 'CategoricalFare', 'CategoricalAge'], columns=['Sex', 'Title', 'CategoricalFare', 'CategoricalAge'])\n",
    "\n",
    "df_total.head()"
   ]
  },
  {
   "cell_type": "markdown",
   "metadata": {},
   "source": [
    "Temos, então, que excluir as colunas que já não são mais necessárias ou que não possuam qualquer relação com a possibilidade de sobrevivência."
   ]
  },
  {
   "cell_type": "code",
   "execution_count": 34,
   "metadata": {},
   "outputs": [
    {
     "data": {
      "text/html": [
       "<div>\n",
       "<style scoped>\n",
       "    .dataframe tbody tr th:only-of-type {\n",
       "        vertical-align: middle;\n",
       "    }\n",
       "\n",
       "    .dataframe tbody tr th {\n",
       "        vertical-align: top;\n",
       "    }\n",
       "\n",
       "    .dataframe thead th {\n",
       "        text-align: right;\n",
       "    }\n",
       "</style>\n",
       "<table border=\"1\" class=\"dataframe\">\n",
       "  <thead>\n",
       "    <tr style=\"text-align: right;\">\n",
       "      <th></th>\n",
       "      <th>Pclass</th>\n",
       "      <th>train</th>\n",
       "      <th>Has_Cabin</th>\n",
       "      <th>FamilySize</th>\n",
       "      <th>Sex_female</th>\n",
       "      <th>Sex_male</th>\n",
       "      <th>Title_Master</th>\n",
       "      <th>Title_Miss</th>\n",
       "      <th>Title_Mr</th>\n",
       "      <th>Title_Mrs</th>\n",
       "      <th>Title_Rare</th>\n",
       "      <th>CategoricalFare_(-0.001, 7.896]</th>\n",
       "      <th>CategoricalFare_(7.896, 14.454]</th>\n",
       "      <th>CategoricalFare_(14.454, 31.275]</th>\n",
       "      <th>CategoricalFare_(31.275, 512.329]</th>\n",
       "      <th>CategoricalAge_(-0.08, 16.0]</th>\n",
       "      <th>CategoricalAge_(16.0, 32.0]</th>\n",
       "      <th>CategoricalAge_(32.0, 48.0]</th>\n",
       "      <th>CategoricalAge_(48.0, 64.0]</th>\n",
       "      <th>CategoricalAge_(64.0, 80.0]</th>\n",
       "    </tr>\n",
       "  </thead>\n",
       "  <tbody>\n",
       "    <tr>\n",
       "      <th>0</th>\n",
       "      <td>3</td>\n",
       "      <td>1</td>\n",
       "      <td>0</td>\n",
       "      <td>2</td>\n",
       "      <td>0</td>\n",
       "      <td>1</td>\n",
       "      <td>0</td>\n",
       "      <td>0</td>\n",
       "      <td>1</td>\n",
       "      <td>0</td>\n",
       "      <td>0</td>\n",
       "      <td>1</td>\n",
       "      <td>0</td>\n",
       "      <td>0</td>\n",
       "      <td>0</td>\n",
       "      <td>0</td>\n",
       "      <td>1</td>\n",
       "      <td>0</td>\n",
       "      <td>0</td>\n",
       "      <td>0</td>\n",
       "    </tr>\n",
       "    <tr>\n",
       "      <th>1</th>\n",
       "      <td>1</td>\n",
       "      <td>1</td>\n",
       "      <td>1</td>\n",
       "      <td>2</td>\n",
       "      <td>1</td>\n",
       "      <td>0</td>\n",
       "      <td>0</td>\n",
       "      <td>0</td>\n",
       "      <td>0</td>\n",
       "      <td>1</td>\n",
       "      <td>0</td>\n",
       "      <td>0</td>\n",
       "      <td>0</td>\n",
       "      <td>0</td>\n",
       "      <td>1</td>\n",
       "      <td>0</td>\n",
       "      <td>0</td>\n",
       "      <td>1</td>\n",
       "      <td>0</td>\n",
       "      <td>0</td>\n",
       "    </tr>\n",
       "    <tr>\n",
       "      <th>2</th>\n",
       "      <td>3</td>\n",
       "      <td>1</td>\n",
       "      <td>0</td>\n",
       "      <td>1</td>\n",
       "      <td>1</td>\n",
       "      <td>0</td>\n",
       "      <td>0</td>\n",
       "      <td>1</td>\n",
       "      <td>0</td>\n",
       "      <td>0</td>\n",
       "      <td>0</td>\n",
       "      <td>0</td>\n",
       "      <td>1</td>\n",
       "      <td>0</td>\n",
       "      <td>0</td>\n",
       "      <td>0</td>\n",
       "      <td>1</td>\n",
       "      <td>0</td>\n",
       "      <td>0</td>\n",
       "      <td>0</td>\n",
       "    </tr>\n",
       "    <tr>\n",
       "      <th>3</th>\n",
       "      <td>1</td>\n",
       "      <td>1</td>\n",
       "      <td>1</td>\n",
       "      <td>2</td>\n",
       "      <td>1</td>\n",
       "      <td>0</td>\n",
       "      <td>0</td>\n",
       "      <td>0</td>\n",
       "      <td>0</td>\n",
       "      <td>1</td>\n",
       "      <td>0</td>\n",
       "      <td>0</td>\n",
       "      <td>0</td>\n",
       "      <td>0</td>\n",
       "      <td>1</td>\n",
       "      <td>0</td>\n",
       "      <td>0</td>\n",
       "      <td>1</td>\n",
       "      <td>0</td>\n",
       "      <td>0</td>\n",
       "    </tr>\n",
       "    <tr>\n",
       "      <th>4</th>\n",
       "      <td>3</td>\n",
       "      <td>1</td>\n",
       "      <td>0</td>\n",
       "      <td>1</td>\n",
       "      <td>0</td>\n",
       "      <td>1</td>\n",
       "      <td>0</td>\n",
       "      <td>0</td>\n",
       "      <td>1</td>\n",
       "      <td>0</td>\n",
       "      <td>0</td>\n",
       "      <td>0</td>\n",
       "      <td>1</td>\n",
       "      <td>0</td>\n",
       "      <td>0</td>\n",
       "      <td>0</td>\n",
       "      <td>0</td>\n",
       "      <td>1</td>\n",
       "      <td>0</td>\n",
       "      <td>0</td>\n",
       "    </tr>\n",
       "  </tbody>\n",
       "</table>\n",
       "</div>"
      ],
      "text/plain": [
       "   Pclass  train  Has_Cabin  FamilySize  Sex_female  Sex_male  Title_Master  \\\n",
       "0       3      1          0           2           0         1             0   \n",
       "1       1      1          1           2           1         0             0   \n",
       "2       3      1          0           1           1         0             0   \n",
       "3       1      1          1           2           1         0             0   \n",
       "4       3      1          0           1           0         1             0   \n",
       "\n",
       "   Title_Miss  Title_Mr  Title_Mrs  Title_Rare  \\\n",
       "0           0         1          0           0   \n",
       "1           0         0          1           0   \n",
       "2           1         0          0           0   \n",
       "3           0         0          1           0   \n",
       "4           0         1          0           0   \n",
       "\n",
       "   CategoricalFare_(-0.001, 7.896]  CategoricalFare_(7.896, 14.454]  \\\n",
       "0                                1                                0   \n",
       "1                                0                                0   \n",
       "2                                0                                1   \n",
       "3                                0                                0   \n",
       "4                                0                                1   \n",
       "\n",
       "   CategoricalFare_(14.454, 31.275]  CategoricalFare_(31.275, 512.329]  \\\n",
       "0                                 0                                  0   \n",
       "1                                 0                                  1   \n",
       "2                                 0                                  0   \n",
       "3                                 0                                  1   \n",
       "4                                 0                                  0   \n",
       "\n",
       "   CategoricalAge_(-0.08, 16.0]  CategoricalAge_(16.0, 32.0]  \\\n",
       "0                             0                            1   \n",
       "1                             0                            0   \n",
       "2                             0                            1   \n",
       "3                             0                            0   \n",
       "4                             0                            0   \n",
       "\n",
       "   CategoricalAge_(32.0, 48.0]  CategoricalAge_(48.0, 64.0]  \\\n",
       "0                            0                            0   \n",
       "1                            1                            0   \n",
       "2                            0                            0   \n",
       "3                            1                            0   \n",
       "4                            1                            0   \n",
       "\n",
       "   CategoricalAge_(64.0, 80.0]  \n",
       "0                            0  \n",
       "1                            0  \n",
       "2                            0  \n",
       "3                            0  \n",
       "4                            0  "
      ]
     },
     "execution_count": 34,
     "metadata": {},
     "output_type": "execute_result"
    }
   ],
   "source": [
    "# exclui colunas desnecessárias\n",
    "\n",
    "drop_elements = ['PassengerId', 'Name', 'Embarked', 'Ticket', 'Cabin', 'SibSp', 'Parch', 'Fare', 'Age']\n",
    "df_total = df_total.drop(drop_elements, axis = 1)\n",
    "df_total.head()"
   ]
  },
  {
   "cell_type": "markdown",
   "metadata": {},
   "source": [
    "Finalizada a transformação dos dados, separamos os datasets de treino e de teste de novo."
   ]
  },
  {
   "cell_type": "code",
   "execution_count": 35,
   "metadata": {},
   "outputs": [],
   "source": [
    "# separa dataset conjunto em dados de treino e de teste\n",
    "train_2 = df_total[df_total['train'] == 1].drop('train', axis = 1)\n",
    "\n",
    "test_2 = df_total[df_total['train'] == 0].drop('train', axis = 1)\n",
    "\n",
    "# retorna variável target ao dataset de treino\n",
    "train_2['Survived'] = y_train"
   ]
  },
  {
   "cell_type": "markdown",
   "metadata": {},
   "source": [
    "Vamos plotar novamente o heatmap de correlação entre variáveis, agora com as novas variáveis criadas durante a fase de transformação dos dados."
   ]
  },
  {
   "cell_type": "code",
   "execution_count": 36,
   "metadata": {},
   "outputs": [
    {
     "data": {
      "image/png": "[encoded data removed]",
      "text/plain": [
       "<Figure size 1296x864 with 2 Axes>"
      ]
     },
     "metadata": {
      "needs_background": "light"
     },
     "output_type": "display_data"
    }
   ],
   "source": [
    "# plota heatmap de correlação entre dados númericos\n",
    "\n",
    "plt.figure(figsize=(18,12))\n",
    "plt.title('Correlações entre variáveis', y=1.05, size=15)\n",
    "sns.heatmap(train_2.corr(), cmap='coolwarm', fmt='.2f', linewidths=0.1, vmax=1.0, square=True, linecolor='white', annot=True);"
   ]
  },
  {
   "cell_type": "markdown",
   "metadata": {},
   "source": [
    "Podemos ver que as colunas que mais possuem correlação com a variável de sobrevivência são aquelas relacionadas com o sexo do passageiro (correlação moderada).\n",
    "\n",
    "Agora, excluiremos a coluna *Survived* do dataset de treino para podermos treinar o modelo."
   ]
  },
  {
   "cell_type": "code",
   "execution_count": 37,
   "metadata": {},
   "outputs": [],
   "source": [
    "# exclui a coluna Survived do dataset de treino\n",
    "\n",
    "train_2.drop(['Survived'], axis=1, inplace=True)"
   ]
  },
  {
   "cell_type": "markdown",
   "metadata": {},
   "source": [
    "Por fim, antes de implementar o modelo preditivo, criamos arrays com os dados de treino e de teste para utilizar nos algoritmos de *machine learning*."
   ]
  },
  {
   "cell_type": "code",
   "execution_count": 38,
   "metadata": {},
   "outputs": [],
   "source": [
    "# cria arrays com os dados de teste e com os dados de treino\n",
    "\n",
    "x_train = train_2.values\n",
    "x_test = test_2.values"
   ]
  },
  {
   "cell_type": "markdown",
   "metadata": {},
   "source": [
    "## 5. Implementando modelos de Machine Learning"
   ]
  },
  {
   "cell_type": "markdown",
   "metadata": {},
   "source": [
    "Vamos iniciar agora a implementação dos modelos de *Machine Learning*."
   ]
  },
  {
   "cell_type": "code",
   "execution_count": 39,
   "metadata": {},
   "outputs": [],
   "source": [
    "# importa bibliotecas gerais para avaliação dos modelos de machine learning\n",
    "from sklearn.model_selection import KFold\n",
    "from sklearn.model_selection import cross_val_score"
   ]
  },
  {
   "cell_type": "markdown",
   "metadata": {},
   "source": [
    "Inicialmente, para avaliar a capacidade de generalização dos modelos de *machine learning* utilizaremos a técnica de *cross-validation*.\n",
    "\n",
    "Para isso, utilizaremos o algoritmo ***KFold***. O que ele faz é dividir um dataset em \"*k*\" conjuntos de treino e teste, usando o conjunto de treino para treinar o modelo e o conjunto de teste para avaliar quão bom o modelo generaliza para dados que ele ainda não viu.\n",
    "\n",
    "Em cada uma das \"*k*\" vezes, testa-se o modelo com um *fold* diferente, calculando a métrica escolhida para avaliação do modelo.\n",
    "\n",
    "Ao final do processo, teremos \"*k*\" medidas da métrica de avaliação escolhida, com as quais calculamos a média e o desvio-padrão.\n",
    "\n",
    "Para utilizar o algoritmo, temos que definir em quantas partes dividir e quantas vezes treinar e avaliar o nosso modelo (*número de folds*)."
   ]
  },
  {
   "cell_type": "code",
   "execution_count": 40,
   "metadata": {},
   "outputs": [],
   "source": [
    "# definindo o valor para o número de folds (20)\n",
    "kfold = KFold(n_splits = 20)"
   ]
  },
  {
   "cell_type": "markdown",
   "metadata": {},
   "source": [
    "### 5.1. Regressão Logística (Logistic Regression)"
   ]
  },
  {
   "cell_type": "markdown",
   "metadata": {},
   "source": [
    "A regressão logística é uma espécie de modelo de classificação paramétrica, apesar de ter a palavra ‘regressão’ em seu nome.\n",
    "\n",
    "O algoritmo de regressão logística é usado para examinar a associação de variáveis independentes (categóricas ou contínuas) com uma variável dependente dicotômica (resposta binária, tal como 0 ou 1)."
   ]
  },
  {
   "cell_type": "code",
   "execution_count": 41,
   "metadata": {},
   "outputs": [
    {
     "name": "stdout",
     "output_type": "stream",
     "text": [
      "Acurácia do modelo de Regressão Logística: 0.817071 (0.047253)\n"
     ]
    }
   ],
   "source": [
    "# importa biblioteca de Regressão Logística\n",
    "from sklearn.linear_model import LogisticRegression\n",
    "\n",
    "# cria modelo de Regressão Logística\n",
    "lr_model = LogisticRegression(solver='liblinear')\n",
    "\n",
    "# analisa a acurácia do modelo de Regressão Logística com kfold\n",
    "lr_cv_results = cross_val_score(lr_model, x_train, y_train, cv = kfold, scoring = 'accuracy')\n",
    "msg = \"Acurácia do modelo de Regressão Logística: %f (%f)\" % (lr_cv_results.mean(), lr_cv_results.std())\n",
    "print(msg)"
   ]
  },
  {
   "cell_type": "markdown",
   "metadata": {},
   "source": [
    "### 5.2. Linear Discriminant Analysis"
   ]
  },
  {
   "cell_type": "markdown",
   "metadata": {},
   "source": [
    "O Linear Discriminant Analysis é um classificador com um limite de decisão linear, gerado pelo ajuste de densidades condicionais de classe aos dados e usando a regra de Bayes.\n",
    "\n",
    "O modelo ajusta uma densidade gaussiana para cada classe, assumindo que todas as classes compartilham a mesma matriz de covariância."
   ]
  },
  {
   "cell_type": "code",
   "execution_count": 42,
   "metadata": {},
   "outputs": [
    {
     "name": "stdout",
     "output_type": "stream",
     "text": [
      "Acurácia do modelo Linear Discriminant Analysis (kfold): 0.829343 (0.052432)\n"
     ]
    }
   ],
   "source": [
    "# importa biblioteca de Linear Discriminant Analysis\n",
    "from sklearn.discriminant_analysis import LinearDiscriminantAnalysis\n",
    "\n",
    "# cria modelo Linear Discriminant Analysis\n",
    "lda_model = LinearDiscriminantAnalysis()\n",
    "\n",
    "# analisa a acurácia do modelo Linear Discriminant Analysis com kfold\n",
    "lda_cv_results = cross_val_score(lda_model, x_train, y_train, cv = kfold, scoring = 'accuracy')\n",
    "msg = \"Acurácia do modelo Linear Discriminant Analysis (kfold): %f (%f)\" % (lda_cv_results.mean(), lda_cv_results.std())\n",
    "print(msg)"
   ]
  },
  {
   "cell_type": "markdown",
   "metadata": {},
   "source": [
    "### 5.3. Árvore de Decisão (Decision Tree)"
   ]
  },
  {
   "cell_type": "markdown",
   "metadata": {},
   "source": [
    "O algoritmo de árvore de decisão é um método de aprendizado supervisionado não paramétrico usado para classificação e regressão. O objetivo é criar um modelo que preveja o valor de uma variável de destino, aprendendo regras de decisão simples inferidas dos recursos de dados.\n",
    "\n",
    "As árvores de decisão usam vários algoritmos para decidir dividir um nó em dois ou mais subnós. A criação de subnós aumenta a homogeneidade dos subnós resultantes. Em outras palavras, podemos dizer que a pureza do nó aumenta em relação à variável alvo. A árvore de decisão divide os nós em todas as variáveis disponíveis e, em seguida, seleciona a divisão que resulta na maioria dos subnós homogêneos.\n",
    "\n",
    "A decisão de fazer divisões estratégicas afeta fortemente a precisão de uma árvore. Os critérios de decisão são diferentes para árvores de classificação e regressão."
   ]
  },
  {
   "cell_type": "code",
   "execution_count": 43,
   "metadata": {},
   "outputs": [
    {
     "name": "stdout",
     "output_type": "stream",
     "text": [
      "Acurácia do modelo de Árvore de Decisão (kfold): 0.820379 (0.059204)\n"
     ]
    }
   ],
   "source": [
    "# importa biblioteca de Árvore de Decisão\n",
    "from sklearn.tree import DecisionTreeClassifier\n",
    "\n",
    "# cria modelo de Árvore de Decisão\n",
    "tree_model = DecisionTreeClassifier(max_depth=3)\n",
    "\n",
    "# analisa a acurácia do modelo de Árvore de Decisão com kfold\n",
    "tree_cv_results = cross_val_score(tree_model, x_train, y_train, cv = kfold, scoring = 'accuracy')\n",
    "msg = \"Acurácia do modelo de Árvore de Decisão (kfold): %f (%f)\" % (tree_cv_results.mean(), tree_cv_results.std())\n",
    "print(msg)"
   ]
  },
  {
   "cell_type": "markdown",
   "metadata": {},
   "source": [
    "### 5.4. Ensacamento (Bagging)"
   ]
  },
  {
   "cell_type": "markdown",
   "metadata": {},
   "source": [
    "Um classificador Bagging é um metaestimador de conjunto que ajusta classificadores de base cada um em subconjuntos aleatórios do conjunto de dados original e, em seguida, agrega suas previsões individuais (por votação ou por média) para formar uma previsão final.\n",
    "\n",
    "Esse metaestimador pode ser usado como uma forma de reduzir a variância de um estimador de caixa preta (por exemplo, uma árvore de decisão, que é o estimador base padrão deste algoritmo no *sklearn*), introduzindo a aleatorização em seu procedimento de construção e, em seguida, fazendo um conjunto a partir dele."
   ]
  },
  {
   "cell_type": "code",
   "execution_count": 44,
   "metadata": {},
   "outputs": [
    {
     "name": "stdout",
     "output_type": "stream",
     "text": [
      "Acurácia do modelo de Bagging (kfold): 0.818384 (0.049602)\n"
     ]
    }
   ],
   "source": [
    "# importa biblioteca de Bagging\n",
    "from sklearn.ensemble import BaggingClassifier\n",
    "\n",
    "# cria modelo Bagging\n",
    "bg_model = BaggingClassifier()\n",
    "\n",
    "# analisa a acurácia do modelo Bagging com kfold\n",
    "bg_cv_results = cross_val_score(bg_model, x_train, y_train, cv = kfold, scoring = 'accuracy')\n",
    "msg = \"Acurácia do modelo de Bagging (kfold): %f (%f)\" % (bg_cv_results.mean(), bg_cv_results.std())\n",
    "print(msg)"
   ]
  },
  {
   "cell_type": "markdown",
   "metadata": {},
   "source": [
    "### 5.5. Floresta Aleatória (Random Forest)"
   ]
  },
  {
   "cell_type": "markdown",
   "metadata": {},
   "source": [
    "Uma floresta aleatória é um metaestimador que ajusta vários classificadores de árvore de decisão em várias subamostras do conjunto de dados e usa a média para melhorar a precisão preditiva e o sobreajuste de controle.\n",
    "\n",
    "O tamanho da subamostra é controlado com o parâmetro *max_samples* se *bootstrap = True* (padrão). Caso contrário, todo o conjunto de dados é usado para construir cada árvore."
   ]
  },
  {
   "cell_type": "code",
   "execution_count": 45,
   "metadata": {},
   "outputs": [
    {
     "name": "stdout",
     "output_type": "stream",
     "text": [
      "Acurácia do modelo de Random Forest (kfold): 0.824091 (0.058464)\n"
     ]
    }
   ],
   "source": [
    "# importa biblioteca de Random Forest\n",
    "from sklearn.ensemble import RandomForestClassifier\n",
    "\n",
    "# cria modelo de Random Forest\n",
    "rf_model = RandomForestClassifier()\n",
    "\n",
    "# analisa a acurácia do modelo de Random Forest com kfold\n",
    "rf_cv_results = cross_val_score(rf_model, x_train, y_train, cv = kfold, scoring = 'accuracy')\n",
    "msg = \"Acurácia do modelo de Random Forest (kfold): %f (%f)\" % (rf_cv_results.mean(), rf_cv_results.std())\n",
    "print(msg)"
   ]
  },
  {
   "cell_type": "markdown",
   "metadata": {},
   "source": [
    "### 5.6. Extra Trees Classifier"
   ]
  },
  {
   "cell_type": "markdown",
   "metadata": {},
   "source": [
    "O classificador Extra Trees é um metaestimador que ajusta um número de árvores de decisão aleatórias (também conhecidas como árvores extras) em várias subamostras do conjunto de dados e usa a média para melhorar a precisão preditiva e para controlar o sobreajuste."
   ]
  },
  {
   "cell_type": "code",
   "execution_count": 46,
   "metadata": {},
   "outputs": [
    {
     "name": "stdout",
     "output_type": "stream",
     "text": [
      "Acurácia do modelo Extra Trees Classifier (kfold): 0.822854 (0.048777)\n"
     ]
    }
   ],
   "source": [
    "# importa biblioteca de Extra Trees Classifier\n",
    "from sklearn.ensemble import ExtraTreesClassifier\n",
    "\n",
    "# cria modelo Extra Trees Classifier\n",
    "etrees_model = ExtraTreesClassifier()\n",
    "\n",
    "# analisa a acurácia do modelo Extra Trees Classifier com kfold\n",
    "etrees_cv_results = cross_val_score(etrees_model, x_train, y_train, cv = kfold, scoring = 'accuracy')\n",
    "msg = \"Acurácia do modelo Extra Trees Classifier (kfold): %f (%f)\" % (etrees_cv_results.mean(), etrees_cv_results.std())\n",
    "print(msg)"
   ]
  },
  {
   "cell_type": "markdown",
   "metadata": {},
   "source": [
    "### 5.7. AdaBoost "
   ]
  },
  {
   "cell_type": "markdown",
   "metadata": {},
   "source": [
    "Um classificador AdaBoost é um metaestimador que começa ajustando um classificador no conjunto de dados original e, em seguida, ajusta cópias adicionais do classificador no mesmo conjunto de dados, mas onde os pesos das instâncias classificadas incorretamente são ajustados de modo que os classificadores subsequentes se concentrem mais em casos difíceis.\n",
    "\n",
    "O estimador base padrão deste algoritmo no *sklearn* é a árvore de decisão."
   ]
  },
  {
   "cell_type": "code",
   "execution_count": 47,
   "metadata": {},
   "outputs": [
    {
     "name": "stdout",
     "output_type": "stream",
     "text": [
      "Acurácia do modelo de AdaBoost (kfold): 0.812525 (0.050940)\n"
     ]
    }
   ],
   "source": [
    "# importa biblioteca de AdaBoost\n",
    "from sklearn.ensemble import AdaBoostClassifier\n",
    "\n",
    "# cria modelo de AdaBoost\n",
    "bst_model = AdaBoostClassifier(n_estimators=34)\n",
    "\n",
    "# analisa a acurácia do modelo de AdaBoost com kfold\n",
    "bst_cv_results = cross_val_score(bst_model, x_train, y_train, cv = kfold, scoring = 'accuracy')\n",
    "msg = \"Acurácia do modelo de AdaBoost (kfold): %f (%f)\" % (bst_cv_results.mean(), bst_cv_results.std())\n",
    "print(msg)"
   ]
  },
  {
   "cell_type": "markdown",
   "metadata": {},
   "source": [
    "### 5.8. Gradient Boosting"
   ]
  },
  {
   "cell_type": "markdown",
   "metadata": {},
   "source": [
    "O Gradient Boosting se baseia na expectativa de que o melhor próximo modelo possível, quando combinado com os modelos anteriores, minimiza o erro geral de previsão. A ideia principal é definir os resultados desejados para este próximo modelo, a fim de minimizar o erro.\n",
    "\n",
    "A principal diferença entre o AdaBoost e o Gradient Boosting Algorithm é como os dois algoritmos identificam as deficiências dos alunos fracos (por exemplo, árvores de decisão).\n",
    "\n",
    "Enquanto o modelo AdaBoost identifica as deficiências usando pontos de dados de alto peso, o Gradient Boosting tem o mesmo desempenho usando gradientes na função de perda. A função de perda é uma medida que indica quão bons são os coeficientes do modelo no ajuste dos dados subjacentes."
   ]
  },
  {
   "cell_type": "code",
   "execution_count": 48,
   "metadata": {},
   "outputs": [
    {
     "name": "stdout",
     "output_type": "stream",
     "text": [
      "Acurácia do modelo de Gradient Boosting (kfold): 0.839646 (0.053999)\n"
     ]
    }
   ],
   "source": [
    "# importa biblioteca de Gradient Boosting\n",
    "from sklearn.ensemble import GradientBoostingClassifier\n",
    "\n",
    "# cria modelo de Gradient Boosting\n",
    "gbst_model = GradientBoostingClassifier(n_estimators=100)\n",
    "\n",
    "# analisa a acurácia do modelo de Gradient Boosting com kfold\n",
    "gbst_cv_results = cross_val_score(gbst_model, x_train, y_train, cv = kfold, scoring = 'accuracy')\n",
    "msg = \"Acurácia do modelo de Gradient Boosting (kfold): %f (%f)\" % (gbst_cv_results.mean(), gbst_cv_results.std())\n",
    "print(msg)"
   ]
  },
  {
   "cell_type": "markdown",
   "metadata": {},
   "source": [
    "### 5.9. XGBoost"
   ]
  },
  {
   "cell_type": "markdown",
   "metadata": {},
   "source": [
    "XGBoost é a abreviação de “eXtreme Gradient Boosting”. O “eXtreme” refere-se a melhorias de velocidade, como computação paralela e reconhecimento de cache, que torna o XGBoost bem mais rápido do que o Gradient Boosting tradicional. Além disso, o XGBoost inclui um algoritmo de localização de divisão exclusivo para otimizar árvores, junto com a regularização integrada que reduz o sobreajuste. De modo geral, o XGBoost é uma versão mais rápida e precisa do Gradient Boosting."
   ]
  },
  {
   "cell_type": "code",
   "execution_count": 49,
   "metadata": {},
   "outputs": [
    {
     "name": "stdout",
     "output_type": "stream",
     "text": [
      "[09:54:26] WARNING: C:/Users/Administrator/workspace/xgboost-win64_release_1.3.0/src/learner.cc:1061: Starting in XGBoost 1.3.0, the default evaluation metric used with the objective 'binary:logistic' was changed from 'error' to 'logloss'. Explicitly set eval_metric if you'd like to restore the old behavior.\n",
      "[09:54:26] WARNING: C:/Users/Administrator/workspace/xgboost-win64_release_1.3.0/src/learner.cc:1061: Starting in XGBoost 1.3.0, the default evaluation metric used with the objective 'binary:logistic' was changed from 'error' to 'logloss'. Explicitly set eval_metric if you'd like to restore the old behavior.\n",
      "[09:54:26] WARNING: C:/Users/Administrator/workspace/xgboost-win64_release_1.3.0/src/learner.cc:1061: Starting in XGBoost 1.3.0, the default evaluation metric used with the objective 'binary:logistic' was changed from 'error' to 'logloss'. Explicitly set eval_metric if you'd like to restore the old behavior.\n",
      "[09:54:26] WARNING: C:/Users/Administrator/workspace/xgboost-win64_release_1.3.0/src/learner.cc:1061: Starting in XGBoost 1.3.0, the default evaluation metric used with the objective 'binary:logistic' was changed from 'error' to 'logloss'. Explicitly set eval_metric if you'd like to restore the old behavior.\n",
      "[09:54:26] WARNING: C:/Users/Administrator/workspace/xgboost-win64_release_1.3.0/src/learner.cc:1061: Starting in XGBoost 1.3.0, the default evaluation metric used with the objective 'binary:logistic' was changed from 'error' to 'logloss'. Explicitly set eval_metric if you'd like to restore the old behavior.\n",
      "[09:54:26] WARNING: C:/Users/Administrator/workspace/xgboost-win64_release_1.3.0/src/learner.cc:1061: Starting in XGBoost 1.3.0, the default evaluation metric used with the objective 'binary:logistic' was changed from 'error' to 'logloss'. Explicitly set eval_metric if you'd like to restore the old behavior.\n",
      "[09:54:26] WARNING: C:/Users/Administrator/workspace/xgboost-win64_release_1.3.0/src/learner.cc:1061: Starting in XGBoost 1.3.0, the default evaluation metric used with the objective 'binary:logistic' was changed from 'error' to 'logloss'. Explicitly set eval_metric if you'd like to restore the old behavior.\n",
      "[09:54:26] WARNING: C:/Users/Administrator/workspace/xgboost-win64_release_1.3.0/src/learner.cc:1061: Starting in XGBoost 1.3.0, the default evaluation metric used with the objective 'binary:logistic' was changed from 'error' to 'logloss'. Explicitly set eval_metric if you'd like to restore the old behavior.\n",
      "[09:54:26] WARNING: C:/Users/Administrator/workspace/xgboost-win64_release_1.3.0/src/learner.cc:1061: Starting in XGBoost 1.3.0, the default evaluation metric used with the objective 'binary:logistic' was changed from 'error' to 'logloss'. Explicitly set eval_metric if you'd like to restore the old behavior.\n",
      "[09:54:27] WARNING: C:/Users/Administrator/workspace/xgboost-win64_release_1.3.0/src/learner.cc:1061: Starting in XGBoost 1.3.0, the default evaluation metric used with the objective 'binary:logistic' was changed from 'error' to 'logloss'. Explicitly set eval_metric if you'd like to restore the old behavior.\n",
      "[09:54:27] WARNING: C:/Users/Administrator/workspace/xgboost-win64_release_1.3.0/src/learner.cc:1061: Starting in XGBoost 1.3.0, the default evaluation metric used with the objective 'binary:logistic' was changed from 'error' to 'logloss'. Explicitly set eval_metric if you'd like to restore the old behavior.\n",
      "[09:54:27] WARNING: C:/Users/Administrator/workspace/xgboost-win64_release_1.3.0/src/learner.cc:1061: Starting in XGBoost 1.3.0, the default evaluation metric used with the objective 'binary:logistic' was changed from 'error' to 'logloss'. Explicitly set eval_metric if you'd like to restore the old behavior.\n",
      "[09:54:27] WARNING: C:/Users/Administrator/workspace/xgboost-win64_release_1.3.0/src/learner.cc:1061: Starting in XGBoost 1.3.0, the default evaluation metric used with the objective 'binary:logistic' was changed from 'error' to 'logloss'. Explicitly set eval_metric if you'd like to restore the old behavior.\n",
      "[09:54:27] WARNING: C:/Users/Administrator/workspace/xgboost-win64_release_1.3.0/src/learner.cc:1061: Starting in XGBoost 1.3.0, the default evaluation metric used with the objective 'binary:logistic' was changed from 'error' to 'logloss'. Explicitly set eval_metric if you'd like to restore the old behavior.\n",
      "[09:54:27] WARNING: C:/Users/Administrator/workspace/xgboost-win64_release_1.3.0/src/learner.cc:1061: Starting in XGBoost 1.3.0, the default evaluation metric used with the objective 'binary:logistic' was changed from 'error' to 'logloss'. Explicitly set eval_metric if you'd like to restore the old behavior.\n",
      "[09:54:27] WARNING: C:/Users/Administrator/workspace/xgboost-win64_release_1.3.0/src/learner.cc:1061: Starting in XGBoost 1.3.0, the default evaluation metric used with the objective 'binary:logistic' was changed from 'error' to 'logloss'. Explicitly set eval_metric if you'd like to restore the old behavior.\n",
      "[09:54:27] WARNING: C:/Users/Administrator/workspace/xgboost-win64_release_1.3.0/src/learner.cc:1061: Starting in XGBoost 1.3.0, the default evaluation metric used with the objective 'binary:logistic' was changed from 'error' to 'logloss'. Explicitly set eval_metric if you'd like to restore the old behavior.\n",
      "[09:54:27] WARNING: C:/Users/Administrator/workspace/xgboost-win64_release_1.3.0/src/learner.cc:1061: Starting in XGBoost 1.3.0, the default evaluation metric used with the objective 'binary:logistic' was changed from 'error' to 'logloss'. Explicitly set eval_metric if you'd like to restore the old behavior.\n",
      "[09:54:28] WARNING: C:/Users/Administrator/workspace/xgboost-win64_release_1.3.0/src/learner.cc:1061: Starting in XGBoost 1.3.0, the default evaluation metric used with the objective 'binary:logistic' was changed from 'error' to 'logloss'. Explicitly set eval_metric if you'd like to restore the old behavior.\n",
      "[09:54:28] WARNING: C:/Users/Administrator/workspace/xgboost-win64_release_1.3.0/src/learner.cc:1061: Starting in XGBoost 1.3.0, the default evaluation metric used with the objective 'binary:logistic' was changed from 'error' to 'logloss'. Explicitly set eval_metric if you'd like to restore the old behavior.\n",
      "Acurácia do modelo XGB (kfold): 0.819596 (0.054439)\n"
     ]
    }
   ],
   "source": [
    "# importa biblioteca de XGB\n",
    "import xgboost as xgb\n",
    "\n",
    "# cria modelo XGB\n",
    "xgb_model = xgb.XGBClassifier()\n",
    "\n",
    "# analisa a acurácia do modelo XGB com kfold\n",
    "xgb_cv_results = cross_val_score(xgb_model, x_train, y_train, cv = kfold, scoring = 'accuracy')\n",
    "msg = \"Acurácia do modelo XGB (kfold): %f (%f)\" % (xgb_cv_results.mean(), xgb_cv_results.std())\n",
    "print(msg)"
   ]
  },
  {
   "cell_type": "markdown",
   "metadata": {},
   "source": [
    "### 5.10. Verificação do melhor modelo de Machine Learning para o caso"
   ]
  },
  {
   "cell_type": "markdown",
   "metadata": {},
   "source": [
    "Uma vez verificada a média da acurácia de todos os modelos treinados, junto com seu desvio-padrão, vejamos qual teve o melhor desempenho nesse quesito."
   ]
  },
  {
   "cell_type": "code",
   "execution_count": 50,
   "metadata": {},
   "outputs": [
    {
     "data": {
      "text/html": [
       "<div>\n",
       "<style scoped>\n",
       "    .dataframe tbody tr th:only-of-type {\n",
       "        vertical-align: middle;\n",
       "    }\n",
       "\n",
       "    .dataframe tbody tr th {\n",
       "        vertical-align: top;\n",
       "    }\n",
       "\n",
       "    .dataframe thead th {\n",
       "        text-align: right;\n",
       "    }\n",
       "</style>\n",
       "<table border=\"1\" class=\"dataframe\">\n",
       "  <thead>\n",
       "    <tr style=\"text-align: right;\">\n",
       "      <th></th>\n",
       "      <th>Modelo</th>\n",
       "      <th>Score</th>\n",
       "    </tr>\n",
       "  </thead>\n",
       "  <tbody>\n",
       "    <tr>\n",
       "      <th>7</th>\n",
       "      <td>Gradient Boosting (GB)</td>\n",
       "      <td>0.839646</td>\n",
       "    </tr>\n",
       "    <tr>\n",
       "      <th>1</th>\n",
       "      <td>Linear Discriminant Analysis (LDA)</td>\n",
       "      <td>0.829343</td>\n",
       "    </tr>\n",
       "    <tr>\n",
       "      <th>4</th>\n",
       "      <td>Random Forest (RF)</td>\n",
       "      <td>0.824091</td>\n",
       "    </tr>\n",
       "    <tr>\n",
       "      <th>5</th>\n",
       "      <td>Extra Trees (ET)</td>\n",
       "      <td>0.822854</td>\n",
       "    </tr>\n",
       "    <tr>\n",
       "      <th>2</th>\n",
       "      <td>Árvore de Decisão (AD)</td>\n",
       "      <td>0.820379</td>\n",
       "    </tr>\n",
       "    <tr>\n",
       "      <th>8</th>\n",
       "      <td>XGB (XGB)</td>\n",
       "      <td>0.819596</td>\n",
       "    </tr>\n",
       "    <tr>\n",
       "      <th>3</th>\n",
       "      <td>Bagging (Bg)</td>\n",
       "      <td>0.818384</td>\n",
       "    </tr>\n",
       "    <tr>\n",
       "      <th>0</th>\n",
       "      <td>Regressão Logística (RL)</td>\n",
       "      <td>0.817071</td>\n",
       "    </tr>\n",
       "    <tr>\n",
       "      <th>6</th>\n",
       "      <td>AdaBoost (AB)</td>\n",
       "      <td>0.812525</td>\n",
       "    </tr>\n",
       "  </tbody>\n",
       "</table>\n",
       "</div>"
      ],
      "text/plain": [
       "                               Modelo     Score\n",
       "7              Gradient Boosting (GB)  0.839646\n",
       "1  Linear Discriminant Analysis (LDA)  0.829343\n",
       "4                  Random Forest (RF)  0.824091\n",
       "5                    Extra Trees (ET)  0.822854\n",
       "2              Árvore de Decisão (AD)  0.820379\n",
       "8                           XGB (XGB)  0.819596\n",
       "3                        Bagging (Bg)  0.818384\n",
       "0            Regressão Logística (RL)  0.817071\n",
       "6                       AdaBoost (AB)  0.812525"
      ]
     },
     "execution_count": 50,
     "metadata": {},
     "output_type": "execute_result"
    }
   ],
   "source": [
    "# lista acurácia dos modelos, em ordem decrescente\n",
    "models = pd.DataFrame({\n",
    "    'Modelo': ['Regressão Logística (RL)', 'Linear Discriminant Analysis (LDA)', 'Árvore de Decisão (AD)',\n",
    "              'Bagging (Bg)', 'Random Forest (RF)', 'Extra Trees (ET)', 'AdaBoost (AB)',\n",
    "              'Gradient Boosting (GB)', 'XGB (XGB)'],\n",
    "    'Score': [lr_cv_results.mean(), lda_cv_results.mean(), tree_cv_results.mean(),\n",
    "              bg_cv_results.mean(), rf_cv_results.mean(), etrees_cv_results.mean(), bst_cv_results.mean(),\n",
    "              gbst_cv_results.mean(), xgb_cv_results.mean()]})\n",
    "\n",
    "models.sort_values(by='Score', ascending=False)"
   ]
  },
  {
   "cell_type": "markdown",
   "metadata": {},
   "source": [
    "Vamos também plotar um *boxplot* para ter uma melhor visualização do desempenho dos modelos."
   ]
  },
  {
   "cell_type": "code",
   "execution_count": 51,
   "metadata": {},
   "outputs": [
    {
     "data": {
      "image/png": "[encoded data removed]",
      "text/plain": [
       "<Figure size 1152x1008 with 1 Axes>"
      ]
     },
     "metadata": {
      "needs_background": "light"
     },
     "output_type": "display_data"
    }
   ],
   "source": [
    "resultados = [lr_cv_results, tree_cv_results,\n",
    "              bg_cv_results, rf_cv_results, bst_cv_results, gbst_cv_results,\n",
    "              xgb_cv_results, etrees_cv_results, lda_cv_results]\n",
    "\n",
    "nomes = ['RL', 'AD', 'Bg', 'RF', 'AB', 'GB', 'XGB', 'ET', 'LDA']\n",
    "\n",
    "# Boxplot para comparar os algoritmos\n",
    "fig = plt.figure(figsize=(16,14))\n",
    "fig.suptitle('Comparação de Algoritmos de Classificação')\n",
    "ax = fig.add_subplot(111)\n",
    "plt.boxplot(resultados)\n",
    "ax.set_xticklabels(nomes)\n",
    "plt.show()"
   ]
  },
  {
   "cell_type": "markdown",
   "metadata": {},
   "source": [
    "Iremos pegar o modelo que melhor desempenhou na acurácia e testar diversos hiperparâmetros para encontrar o que pode ser mais eficiente no modelo selecionado."
   ]
  },
  {
   "cell_type": "code",
   "execution_count": 52,
   "metadata": {},
   "outputs": [
    {
     "name": "stdout",
     "output_type": "stream",
     "text": [
      "{'ccp_alpha': 0.0,\n",
      " 'criterion': 'friedman_mse',\n",
      " 'init': None,\n",
      " 'learning_rate': 0.1,\n",
      " 'loss': 'deviance',\n",
      " 'max_depth': 3,\n",
      " 'max_features': 0.2683037060567194,\n",
      " 'max_leaf_nodes': None,\n",
      " 'min_impurity_decrease': 0.0,\n",
      " 'min_impurity_split': None,\n",
      " 'min_samples_leaf': 1,\n",
      " 'min_samples_split': 0.024777428238277346,\n",
      " 'min_weight_fraction_leaf': 0.0,\n",
      " 'n_estimators': 74,\n",
      " 'n_iter_no_change': None,\n",
      " 'random_state': None,\n",
      " 'subsample': 1.0,\n",
      " 'tol': 0.0001,\n",
      " 'validation_fraction': 0.1,\n",
      " 'verbose': 0,\n",
      " 'warm_start': False}\n"
     ]
    }
   ],
   "source": [
    "# testa diversos hiperparâmetros para encontrar o que pode ser mais eficiente no modelo selecionado\n",
    "\n",
    "from sklearn.model_selection import RandomizedSearchCV\n",
    "from scipy.stats import uniform, truncnorm, randint\n",
    "\n",
    "model_params = {\n",
    "    # amostra aleatória de 4 a 200 estimators\n",
    "    'n_estimators': randint(4,200),\n",
    "    # max_features normalmente distribuída, com média .25, desvio-padrão 0.1, limitado entre 0 e 1\n",
    "    'max_features': truncnorm(a=0, b=1, loc=0.25, scale=0.1),\n",
    "    # distribuição uniforme de 0.01 a 0.2 (0.01 + 0.199)\n",
    "    'min_samples_split': uniform(0.01, 0.199)\n",
    "}\n",
    "\n",
    "gbst_model = GradientBoostingClassifier() # incluir aqui o modelo para o teste\n",
    "\n",
    "# configura a busca aleatória de metaestimadores\n",
    "# isto irá treinar 100 modelos através de 5 dobras de cross validation (500 modelos no total)\n",
    "clf = RandomizedSearchCV(gbst_model, model_params, n_iter=100, cv=5, random_state=1)\n",
    "\n",
    "# treina os modelos para encontrar o melhor modelo em cada 100 candidatos\n",
    "model = clf.fit(x_train, y_train)\n",
    "\n",
    "# imprime o conjunto vencedor de hiperparâmetros\n",
    "from pprint import pprint\n",
    "pprint(model.best_estimator_.get_params())"
   ]
  },
  {
   "cell_type": "markdown",
   "metadata": {},
   "source": [
    "Agora iremos treinar novamente nosso modelo."
   ]
  },
  {
   "cell_type": "code",
   "execution_count": 53,
   "metadata": {},
   "outputs": [],
   "source": [
    "gbst_model = GradientBoostingClassifier(max_features=0.2683037060567194, n_estimators=74, min_samples_split=0.024777428238277346, random_state=1234)\n",
    "gbst_model.fit(x_train, y_train)\n",
    "gbst_predictions = gbst_model.predict(x_test);"
   ]
  },
  {
   "cell_type": "markdown",
   "metadata": {},
   "source": [
    "### 5.11. Avaliações Adicionais"
   ]
  },
  {
   "cell_type": "markdown",
   "metadata": {},
   "source": [
    "Agora iremos usar alguns métodos para avaliar melhor nosso modelo.\n",
    "\n",
    "O primeiro deles será a matriz de confusão.\n",
    "\n",
    "A matriz de confusão é uma tabela frequentemente usada para descrever o desempenho de um modelo de classificação (ou \"classificador\") em um conjunto de dados de teste para os quais os valores verdadeiros são conhecidos.\n",
    "\n",
    "A primeira linha da matriz é sobre as predições dos não sobreviventes:\n",
    "- em [0,0] temos passageiros que foram classificados corretamente como não sobreviventes (chamados de verdadeiros negativos);\n",
    "- em [0,1] temos passageiros que foram erroneamente classificados como não sobreviventes (falsos negativos).\n",
    "\n",
    "A segunda linha da matriz é sobre as previsões dos sobreviventes:\n",
    "- em [1,0] temos passageiros classificados erroneamente como sobreviventes (falsos positivos);\n",
    "- em [1,1] temos passageiros corretamente classificados como sobreviventes (positivos verdadeiros)."
   ]
  },
  {
   "cell_type": "code",
   "execution_count": 54,
   "metadata": {},
   "outputs": [
    {
     "data": {
      "text/plain": [
       "array([[495,  54],\n",
       "       [ 92, 250]], dtype=int64)"
      ]
     },
     "execution_count": 54,
     "metadata": {},
     "output_type": "execute_result"
    }
   ],
   "source": [
    "# cria matriz de confusão\n",
    "# importa bibliotecas de Cross Validation e Confusion Matrix\n",
    "\n",
    "from sklearn.model_selection import cross_val_predict\n",
    "from sklearn.metrics import confusion_matrix\n",
    "\n",
    "# a primeira linha da matriz é sobre as predições dos não sobreviventes:\n",
    "# em [0,0] temos passageiros que foram classificados corretamente como não sobreviventes (chamados de verdadeiros negativos)\n",
    "# em [0,1] temos passageiros que foram erroneamente classificados como não sobreviventes (falsos negativos)\n",
    "\n",
    "# a segunda linha da matriz é sobre as previsões dos sobreviventes:\n",
    "# em [1,0] temos passageiros classificados erroneamente como sobreviventes (falsos positivos)\n",
    "# em [1,1] temos passageiros corretamente classificados como sobreviventes (positivos verdadeiros)\n",
    "\n",
    "predictions = cross_val_predict(gbst_model, x_train, y_train, cv=3)\n",
    "confusion_matrix(y_train, predictions)"
   ]
  },
  {
   "cell_type": "markdown",
   "metadata": {},
   "source": [
    "Agora iremos medir a Precisão (*Precision*) e a Recuperação (*Recall*) do modelo preditivo.\n",
    "\n",
    "Precisão e Recuperação são métricas de avaliação de classificação.\n",
    "\n",
    "Em geral, priorizamos a precisão quando os falsos positivos são considerados mais prejudiciais do que os falsos negativos, pois verifica, dentre todas as classificações de classe positivas que o modelo fez, quantas estão corretas.\n",
    "\n",
    "Por exemplo, ao classificar um ativo como um bom investimento, é necessário que o modelo esteja correto, mesmo que acabe classificando bons investimentos como maus investimentos (situação de falso negativo) no processo. Ou seja, o modelo deve ser preciso em suas classificações, pois, a partir do momento em que consideramos um investimento bom quando, na verdade, ele não é, prejuízos enormes podem ocorrer.\n",
    "\n",
    "Ou seja, se quisermos alterar o modelo para que o desempenho dele melhore ao classificar a classe positiva, precisamos aumentar sua precisão.\n",
    "\n",
    "Já o *recall* é priorizado em uma situação em que os falsos negativos são considerados mais prejudiciais que os falsos positivos. Por exemplo, em uma compra com cartão de crédito, o modelo deve, de qualquer maneira, encontrar todas as compras fraudulentas, mesmo que classifique algumas compras corretas como fraudulentas (situação de falso positivo) no processo. Ou seja, o modelo deve ter alto recall, pois classificar compras fraudulentas como corretas causaria enormes prejuízos."
   ]
  },
  {
   "cell_type": "code",
   "execution_count": 55,
   "metadata": {},
   "outputs": [
    {
     "data": {
      "image/png": "[encoded data removed]",
      "text/plain": [
       "<Figure size 1224x648 with 1 Axes>"
      ]
     },
     "metadata": {
      "needs_background": "light"
     },
     "output_type": "display_data"
    },
    {
     "name": "stdout",
     "output_type": "stream",
     "text": [
      "Precisão (Precision): 0.8223684210526315\n",
      "Recuperação (Recall): 0.7309941520467836\n"
     ]
    }
   ],
   "source": [
    "# mede a precisão e a recuperação do modelo\n",
    "\n",
    "# importa bibliotecas de Precision e Recall\n",
    "\n",
    "from sklearn.metrics import precision_recall_curve\n",
    "from sklearn.metrics import precision_score, recall_score\n",
    "\n",
    "# Obtendo as probabilidades de nossas previsões\n",
    "\n",
    "y_scores = gbst_model.predict_proba(x_train)\n",
    "y_scores = y_scores[:,1]\n",
    "\n",
    "precision, recall, threshold = precision_recall_curve(y_train, y_scores)\n",
    "\n",
    "# plota gráfico de precisão e recuperação\n",
    "\n",
    "def plot_precision_and_recall(precision, recall, threshold):\n",
    "    plt.plot(threshold, precision[:-1], \"r-\", label=\"Precisão (precision)\", linewidth=5)\n",
    "    plt.plot(threshold, recall[:-1], \"b\", label=\"Recuperação (recall)\", linewidth=5)\n",
    "    plt.xlabel(\"Limite\", fontsize=19)\n",
    "    plt.legend(loc=\"upper right\", fontsize=19)\n",
    "    plt.ylim([0, 1])\n",
    "\n",
    "plt.figure(figsize=(17, 9))\n",
    "plot_precision_and_recall(precision, recall, threshold)\n",
    "plt.show()\n",
    "\n",
    "print(\"Precisão (Precision):\", precision_score(y_train, predictions))\n",
    "print(\"Recuperação (Recall):\",recall_score(y_train, predictions))"
   ]
  },
  {
   "cell_type": "code",
   "execution_count": 56,
   "metadata": {},
   "outputs": [
    {
     "data": {
      "image/png": "[encoded data removed]",
      "text/plain": [
       "<Figure size 1008x504 with 1 Axes>"
      ]
     },
     "metadata": {
      "needs_background": "light"
     },
     "output_type": "display_data"
    }
   ],
   "source": [
    "# plota gráfico Recall x Precision\n",
    "\n",
    "def plot_precision_vs_recall(precision, recall):\n",
    "    plt.plot(recall, precision, \"g--\", linewidth=2.5)\n",
    "    plt.ylabel(\"Recuperação (Recall)\", fontsize=19)\n",
    "    plt.xlabel(\"Precisão (Precision)\", fontsize=19)\n",
    "    plt.axis([0, 1.5, 0, 1.5])\n",
    "\n",
    "plt.figure(figsize=(14, 7))\n",
    "plot_precision_vs_recall(precision, recall)\n",
    "plt.show()"
   ]
  },
  {
   "cell_type": "markdown",
   "metadata": {},
   "source": [
    "Agora iremos plotar a Curva Característica de Operação do Receptor (Receiver Operating Characteristic Curve - ROC) e calcular a Área abaixo da Curva Característica de Operação do Receptor (Area under ROC Curve - AUC).\n",
    "\n",
    "Uma curva ROC é um gráfico que mostra o desempenho de um modelo de classificação em todos os limiares de classificação. Esta curva representa dois parâmetros:\n",
    "\n",
    "- Taxa de verdadeiro positivo (Sensibilidade) no eixo *y*, nos diz qual proporção de verdadeiros positivos;\n",
    "- Taxa de falso positivo (1 - Especificidade) no eixo *x*, nos diz qual proporção de falsos positivos.\n",
    "\n",
    "A linha diagonal em vermelho mostra os pontos onde a taxa de verdadeiro positivo é igual à taxa de falso positivo. Em qualquer ponto desta linha, temos que a proporção de verdadeiros positivos é igual à proporção de falsos positivos.\n",
    "\n",
    "A AUC fornece uma medida agregada de desempenho em todos os limiares de classificação possíveis. É uma forma de comparar o desempenho entre diferentes modelos. Quanto maior a AUC, melhor será o modelo em distinguir entre passageiros sobreviventes e não sobreviventes."
   ]
  },
  {
   "cell_type": "code",
   "execution_count": 57,
   "metadata": {},
   "outputs": [
    {
     "data": {
      "image/png": "[encoded data removed]",
      "text/plain": [
       "<Figure size 1008x504 with 1 Axes>"
      ]
     },
     "metadata": {
      "needs_background": "light"
     },
     "output_type": "display_data"
    },
    {
     "name": "stdout",
     "output_type": "stream",
     "text": [
      "AUC: 0.9071890412126248\n"
     ]
    }
   ],
   "source": [
    "# mede ROC e AUC\n",
    "\n",
    "# importa biblioteca de curva ROC\n",
    "\n",
    "from sklearn.metrics import roc_curve, roc_auc_score\n",
    "\n",
    "# calcular taxa positiva verdadeira e taxa de falsos positivos\n",
    "\n",
    "false_positive_rate, true_positive_rate, thresholds = roc_curve(y_train, y_scores)\n",
    "\n",
    "# plotando a Curva ROC\n",
    "\n",
    "def plot_roc_curve(false_positive_rate, true_positive_rate, label=None):\n",
    "    plt.plot(false_positive_rate, true_positive_rate, linewidth=2, label=label)\n",
    "    plt.plot([0, 1], [0, 1], 'r', linewidth=4)\n",
    "    plt.axis([0, 1, 0, 1])\n",
    "    plt.xlabel('Taxa de Falsos Positivos', fontsize=16)\n",
    "    plt.ylabel('Taxa de Verdaeiros Positivos', fontsize=16)\n",
    "\n",
    "plt.figure(figsize=(14, 7))\n",
    "plot_roc_curve(false_positive_rate, true_positive_rate)\n",
    "plt.show()\n",
    "\n",
    "# calculando AUC\n",
    "\n",
    "r_a_score = roc_auc_score(y_train, y_scores)\n",
    "print(\"AUC:\", r_a_score)"
   ]
  },
  {
   "cell_type": "markdown",
   "metadata": {},
   "source": [
    "## 6. Previsão de um cenário específico"
   ]
  },
  {
   "cell_type": "markdown",
   "metadata": {},
   "source": [
    "Aqui, fizemos uma palhaçadinha para ver se Jack e Rose, do filme Titanic, sobreviveriam à tragédia, conforme o modelo treinado."
   ]
  },
  {
   "cell_type": "code",
   "execution_count": 58,
   "metadata": {},
   "outputs": [
    {
     "name": "stdout",
     "output_type": "stream",
     "text": [
      "Rose sobrevive?\t1\n",
      "Jack sobrevive?\t0\n"
     ]
    }
   ],
   "source": [
    "# prevê um cenário específico\n",
    "# sobrevive? => 1 = Sim; 0 = Não\n",
    "\n",
    "# array = Pclass, Has_Cabin, FamilySize, Sex_female, Sex_male, Title_Master, Title_Miss, Title_Mr, Title_Mrs, Title_Rare,\n",
    "# CategoricalFare_(-0.001, 7.896], CategoricalFare_(7.896, 14.454], CategoricalFare_(14.454, 31.275], CategoricalFare_(31.275, 512.329],\n",
    "# CategoricalAge_(-0.08, 16.0], CategoricalAge_(16.0, 32.0], CategoricalAge_(32.0, 48.0], CategoricalAge_(48.0, 64.0], CategoricalAge_(64.0, 80.0]\n",
    "\n",
    "# Pclass =>                             1a Classe = 1; 2a Classe = 2; 3a Classe = 3\n",
    "# Has_Cabin =>                          Possui cabine = 1; Não possui cabine = 0\n",
    "# FamilySize =>                         Tamanho do grupo familiar, contando com o passageiro\n",
    "# Sex_female =>                         É mulher = 1; Não é mulher = 0\n",
    "# Sex_male =>                           É homem = 1; Não é homem = 0\n",
    "# Title_Master =>                       Possui título Master = 1; Não possui título Master = 0\n",
    "# Title_Miss =>                         Possui título Miss = 1; Não possui título Miss = 0\n",
    "# Title_Mr =>                           Possui título Mr = 1; Não possui título Mr = 0\n",
    "# Title_Mrs =>                          Possui título Mrs = 1; Não possui título Mrs = 0\n",
    "# Title_Rare =>                         Possui título Rare = 1; Não possui título Rare = 0\n",
    "# CategoricalFare_(-0.001, 7.896] =>    Pagou tarifa entre -0.001 e 7.896 = 1; Não pagou tarifa entre -0.001 e 7.896 = 0\n",
    "# CategoricalFare_(7.896, 14.454] =>    Pagou tarifa entre 7.896 e 14.454 = 1; Não pagou tarifa entre 7.896 e 14.454 = 0\n",
    "# CategoricalFare_(14.454, 31.275] =>   Pagou tarifa entre 14.454 e 31.275 = 1; Não pagou tarifa entre 14.454 e 31.275 = 0\n",
    "# CategoricalFare_(31.275, 512.329] =>  Pagou tarifa entre 31.275 e 512.329 = 1; Não pagou tarifa entre 31.275 e 512.329 = 0\n",
    "# CategoricalAge_(-0.08, 16.0] =>       Possui idade entre -0.08 e 16.0 = 1; Não possui idade entre -0.08 e 16.0 = 0\n",
    "# CategoricalAge_(16.0, 32.0] =>        Possui idade entre 16.0 e 32.0 = 1; Não possui idade entre 16.0 e 32.0 = 0\n",
    "# CategoricalAge_(32.0, 48.0] =>        Possui idade entre 32.0 e 48.0 = 1; Não possui idade entre 32.0 e 48.0 = 0\n",
    "# CategoricalAge_(48.0, 64.0] =>        Possui idade entre 48.0 e 64.0 = 1; Não possui idade entre 48.0 e 64.0 = 0\n",
    "# CategoricalAge_(64.0, 80.0] =>        Possui idade entre 64.0 e 80.0 = 1; Não possui idade entre 64.0 e 80.0 = 0\n",
    "\n",
    "rose = np.array([1,1,3,1,0,0,1,0,0,0,0,0,0,1,0,1,0,0,0]).reshape(1, -1)\n",
    "jack = np.array([3,0,1,0,1,0,0,1,0,0,1,0,0,0,0,1,0,0,0]).reshape(1, -1)\n",
    "\n",
    "print(\"Rose sobrevive?\\t{}\".format(gbst_model.predict(rose)[0]))\n",
    "print(\"Jack sobrevive?\\t{}\".format(gbst_model.predict(jack)[0]))"
   ]
  },
  {
   "cell_type": "markdown",
   "metadata": {},
   "source": [
    "## 7. Gerando arquivo para envio ao Kaggle"
   ]
  },
  {
   "cell_type": "code",
   "execution_count": 59,
   "metadata": {},
   "outputs": [],
   "source": [
    "Submission = pd.DataFrame({ 'PassengerId': PassengerId, 'Survived': gbst_predictions })"
   ]
  },
  {
   "cell_type": "code",
   "execution_count": 60,
   "metadata": {},
   "outputs": [
    {
     "data": {
      "text/html": [
       "<div>\n",
       "<style scoped>\n",
       "    .dataframe tbody tr th:only-of-type {\n",
       "        vertical-align: middle;\n",
       "    }\n",
       "\n",
       "    .dataframe tbody tr th {\n",
       "        vertical-align: top;\n",
       "    }\n",
       "\n",
       "    .dataframe thead th {\n",
       "        text-align: right;\n",
       "    }\n",
       "</style>\n",
       "<table border=\"1\" class=\"dataframe\">\n",
       "  <thead>\n",
       "    <tr style=\"text-align: right;\">\n",
       "      <th></th>\n",
       "      <th>PassengerId</th>\n",
       "      <th>Survived</th>\n",
       "    </tr>\n",
       "  </thead>\n",
       "  <tbody>\n",
       "    <tr>\n",
       "      <th>0</th>\n",
       "      <td>892</td>\n",
       "      <td>0</td>\n",
       "    </tr>\n",
       "    <tr>\n",
       "      <th>1</th>\n",
       "      <td>893</td>\n",
       "      <td>1</td>\n",
       "    </tr>\n",
       "    <tr>\n",
       "      <th>2</th>\n",
       "      <td>894</td>\n",
       "      <td>0</td>\n",
       "    </tr>\n",
       "    <tr>\n",
       "      <th>3</th>\n",
       "      <td>895</td>\n",
       "      <td>0</td>\n",
       "    </tr>\n",
       "    <tr>\n",
       "      <th>4</th>\n",
       "      <td>896</td>\n",
       "      <td>1</td>\n",
       "    </tr>\n",
       "  </tbody>\n",
       "</table>\n",
       "</div>"
      ],
      "text/plain": [
       "   PassengerId  Survived\n",
       "0          892         0\n",
       "1          893         1\n",
       "2          894         0\n",
       "3          895         0\n",
       "4          896         1"
      ]
     },
     "execution_count": 60,
     "metadata": {},
     "output_type": "execute_result"
    }
   ],
   "source": [
    "# gerando arquivo csv para envio\n",
    "Submission.to_csv(\"gbst_submission.csv\", index=False)\n",
    "\n",
    "Submission.head()"
   ]
  },
  {
   "cell_type": "code",
   "execution_count": null,
   "metadata": {},
   "outputs": [],
   "source": []
  }
 ],
 "metadata": {
  "kernelspec": {
   "display_name": "Python 3",
   "language": "python",
   "name": "python3"
  },
  "language_info": {
   "codemirror_mode": {
    "name": "ipython",
    "version": 3
   },
   "file_extension": ".py",
   "mimetype": "text/x-python",
   "name": "python",
   "nbconvert_exporter": "python",
   "pygments_lexer": "ipython3",
   "version": "3.8.5"
  }
 },
 "nbformat": 4,
 "nbformat_minor": 4
}
